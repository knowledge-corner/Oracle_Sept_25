{
 "cells": [
  {
   "cell_type": "markdown",
   "metadata": {},
   "source": [
    "# Data Handling Using Python"
   ]
  },
  {
   "cell_type": "markdown",
   "metadata": {
    "id": "xOzcD8n0SL0i"
   },
   "source": [
    "## Array - Datastructure"
   ]
  },
  {
   "cell_type": "markdown",
   "metadata": {
    "id": "LJ7zOREKSL0i",
    "jp-MarkdownHeadingCollapsed": true
   },
   "source": [
    "#### NumPy – Introduction and Installation\n",
    "\n",
    "- NumPy stands for ‘Numeric Python’\n",
    "- Used for mathematical and scientific computations\n",
    "- NumPy array is the most widely used object of the NumPy library"
   ]
  },
  {
   "cell_type": "markdown",
   "metadata": {
    "id": "fSezra2YSL0i"
   },
   "source": [
    "#### Installing related libraries\n",
    "- one time activity\n",
    "- can be done from terminal"
   ]
  },
  {
   "cell_type": "markdown",
   "metadata": {},
   "source": [
    "**Terminal > New Terminal**"
   ]
  },
  {
   "cell_type": "code",
   "execution_count": null,
   "metadata": {
    "id": "fSezra2YSL0i"
   },
   "outputs": [],
   "source": [
    "pip install numpy\n",
    "pip install pandas\n",
    "pip install matplotlib\n",
    "pip install seaborn"
   ]
  },
  {
   "cell_type": "markdown",
   "metadata": {
    "id": "NcOwNJMxSL0j"
   },
   "source": [
    "#### Importing libraries"
   ]
  },
  {
   "cell_type": "code",
   "execution_count": null,
   "metadata": {
    "id": "jbeQqcTmSL0j"
   },
   "outputs": [],
   "source": [
    "import numpy as np\n",
    "import pandas as pd\n",
    "import matplotlib.pyplot as plt\n",
    "import seaborn as sns"
   ]
  },
  {
   "cell_type": "markdown",
   "metadata": {
    "id": "ROKFWY3TSL0j"
   },
   "source": [
    "#### Definition - "
   ]
  },
  {
   "cell_type": "markdown",
   "metadata": {
    "id": "ROKFWY3TSL0j"
   },
   "source": [
    "- NumPy arrays are multidimensional, homogeneous data structures used for efficient numerical computations in Python.  \n",
    "- They are similar to Python lists but provide faster processing and require less memory.  \n",
    "- Arrays can have any number of dimensions, such as 1D (vector), 2D (matrix), or higher-dimensional arrays.  \n",
    "- All elements in a NumPy array must be of the same data type, ensuring performance optimization.  \n",
    "- NumPy supports a wide range of data types, including integers, floats, complex numbers, and more.  \n",
    "- Arrays are created using functions like `numpy.array()`, `numpy.zeros()`, `numpy.ones()`, and `numpy.arange()`.  \n",
    "- NumPy arrays support vectorized operations, enabling element-wise arithmetic without explicit loops.  \n",
    "- Slicing, indexing, and broadcasting enable efficient manipulation and computation on arrays.  \n",
    "- NumPy integrates well with other scientific computing libraries, making it essential for data science and machine learning.  \n",
    "- Arrays can be reshaped, transposed, and aggregated using built-in NumPy methods for flexible data handling."
   ]
  },
  {
   "cell_type": "markdown",
   "metadata": {
    "id": "ROKFWY3TSL0j"
   },
   "source": [
    "- **Creating Arrays**\n",
    "    - `np.array()` is used to create a numpy array from a list"
   ]
  },
  {
   "cell_type": "code",
   "execution_count": null,
   "metadata": {},
   "outputs": [],
   "source": [
    "arr = np.array([10, 20, 30, 40])\n",
    "arr"
   ]
  },
  {
   "cell_type": "code",
   "execution_count": null,
   "metadata": {},
   "outputs": [],
   "source": [
    "arr_2d = np.array([[10, 20, 30, 40], [50, 60, 70, 80]])\n",
    "arr_2d"
   ]
  },
  {
   "cell_type": "markdown",
   "metadata": {
    "id": "ROKFWY3TSL0j"
   },
   "source": [
    "- **Array Attributes** are the features/characteristics of an object that describes the object - \n",
    "    - **shape** - Array dimensions\n",
    "    - **size** - Number of array elements\n",
    "    - **dtype** - Data type of array elements\n",
    "    - **ndim** - Number of array dimensions\n",
    "    - **dtype.name** - Name of data type\n",
    "    - **astype** - Convert an array to a different type"
   ]
  },
  {
   "cell_type": "markdown",
   "metadata": {},
   "source": [
    "#### Array Operations"
   ]
  },
  {
   "cell_type": "markdown",
   "metadata": {},
   "source": [
    "<table style=\"width: 80%; border-collapse: collapse; border: 1px solid #ccc; margin-left: 0; text-align: left;\"> <thead> <tr style=\"background-color: #050A30; color: white; text-align: left;\"> <th style=\"width: 15%; border: 1px solid #000; text-align: left;\">Operation</th> <th style=\"width: 25%; border: 1px solid #000; text-align: left;\">Syntax/Method</th> <th style=\"border: 1px solid #000; text-align: left;\">Description</th> </tr> </thead> <tbody> <tr> <td style=\"border: 1px solid #000; text-align: left;\">Creation</td> <td style=\"border: 1px solid #000; text-align: left;\">numpy.array(), numpy.zeros(), numpy.ones(), numpy.arange()</td> <td style=\"border: 1px solid #000; text-align: left;\">Create arrays from lists or generate arrays of zeros, ones, or ranges.</td> </tr> <tr> <td style=\"border: 1px solid #000; text-align: left;\">Indexing & Slicing</td> <td style=\"border: 1px solid #000; text-align: left;\">arr[1], arr[1:4], arr[:,2]</td> <td style=\"border: 1px solid #000; text-align: left;\">Access or modify elements, rows, columns, and subarrays efficiently.</td> </tr> <tr> <td style=\"border: 1px solid #000; text-align: left;\">Arithmetic Operations</td> <td style=\"border: 1px solid #000; text-align: left;\">arr + 2, arr1 * arr2</td> <td style=\"border: 1px solid #000; text-align: left;\">Vectorized element-wise addition, subtraction, multiplication, and division.</td> </tr> <tr> <td style=\"border: 1px solid #000; text-align: left;\">Aggregation</td> <td style=\"border: 1px solid #000; text-align: left;\">arr.sum(), arr.mean(), arr.min(), arr.max()</td> <td style=\"border: 1px solid #000; text-align: left;\">Compute sums, means, minima, maxima, and other aggregate statistics over arrays.</td> </tr> <tr> <td style=\"border: 1px solid #000; text-align: left;\">Reshaping</td> <td style=\"border: 1px solid #000; text-align: left;\">arr.reshape(new_shape)</td> <td style=\"border: 1px solid #000; text-align: left;\">Change the dimensions of an array without changing its data.</td> </tr> <tr> <td style=\"border: 1px solid #000; text-align: left;\">Stacking & Splitting</td> <td style=\"border: 1px solid #000; text-align: left;\">numpy.vstack(), numpy.hstack(), numpy.split()</td> <td style=\"border: 1px solid #000; text-align: left;\">Combine multiple arrays vertically or horizontally and split arrays into subarrays.</td> </tr> <tr> <td style=\"border: 1px solid #000; text-align: left;\">Broadcasting</td> <td style=\"border: 1px solid #000; text-align: left;\">arr + scalar, arr1 + arr2(shape mismatch)</td> <td style=\"border: 1px solid #000; text-align: left;\">Perform operations on arrays of different shapes by automatically expanding smaller arrays.</td> </tr> <tr> <td style=\"border: 1px solid #000; text-align: left;\">Sorting</td> <td style=\"border: 1px solid #000; text-align: left;\">arr.sort(), numpy.sort(arr)</td> <td style=\"border: 1px solid #000; text-align: left;\">Sort elements in an array in-place or return a sorted copy.</td> </tr> <tr> <td style=\"border: 1px solid #000; text-align: left;\">Transposing</td> <td style=\"border: 1px solid #000; text-align: left;\">arr.T</td> <td style=\"border: 1px solid #000; text-align: left;\">Swap rows and columns in 2D arrays (matrices).</td> </tr> <tr> <td style=\"border: 1px solid #000; text-align: left;\">Copying</td> <td style=\"border: 1px solid #000; text-align: left;\">arr.copy()</td> <td style=\"border: 1px solid #000; text-align: left;\">Create a deep copy of an array to avoid modifying the original.</td> </tr> </tbody> </table>"
   ]
  },
  {
   "cell_type": "markdown",
   "metadata": {},
   "source": [
    "#### Problem Definition (CityFlow Shuttle Service, Mumbai):\n",
    "\n",
    "CityFlow operates a shuttle service across 10 key Mumbai routes, connecting residential neighborhoods to office hubs. The goal is to analyze shuttle route performance using metrics such as daily passenger counts, satisfaction scores, and shuttle frequency. Specifically, we want to:\n",
    "\n",
    "- Identify underperforming routes (low passenger numbers and/or low satisfaction scores)\n",
    "- Decide which routes may need to be closed due to poor performance\n",
    "- Highlight routes where shuttle frequency should be increased to better meet passenger demand and improve overall service quality"
   ]
  },
  {
   "cell_type": "code",
   "execution_count": null,
   "metadata": {},
   "outputs": [],
   "source": [
    "import numpy as np\n",
    "\n",
    "# Shuttle service route names\n",
    "routes = np.array(['Route A', 'Route B', 'Route C', 'Route D', 'Route E','Route F', 'Route G', 'Route H', 'Route I', 'Route J'])\n",
    "\n",
    "# Daily passenger counts \n",
    "passenger_count = np.array([576, 432, 288, 518, 150, 720, 300, 240, 400, 265])\n",
    "\n",
    "# Target daily passenger counts\n",
    "target_passengers = np.array([500, 420, 225, 405, 200, 650, 320, 280, 450, 250])\n",
    "\n",
    "# Shuttle frequency per route (trips per day)\n",
    "shuttle_frequency = np.array([20, 15, 10, 18, 8, 25, 12, 10, 16, 9])\n",
    "\n",
    "# Passenger satisfaction scores out of 10\n",
    "satisfaction_score = np.array([8.5, 7.0, 5.8, 9.0, 4.5, 9.2, 7.5, 6.0, 8.0, 5.0])\n",
    "\n",
    "# Profit generated from each route\n",
    "profit_generated = np.array([40000, 25000, 19008, 45066, -2000, 48600, 19980, 15192, 24600, 14310])\n",
    "\n",
    "# Target profit for each route\n",
    "target_profit = np.array([30000, 22680, 14850, 35235, 6000, 43875, 21312, 17724, 27675, 13500])"
   ]
  },
  {
   "cell_type": "markdown",
   "metadata": {},
   "source": [
    "###### Ex. How many shuttle routes are covered by cityflow?"
   ]
  },
  {
   "cell_type": "code",
   "execution_count": null,
   "metadata": {},
   "outputs": [],
   "source": []
  },
  {
   "cell_type": "markdown",
   "metadata": {},
   "source": [
    "###### Ex. Which shuttle route has the highest passenger count?"
   ]
  },
  {
   "cell_type": "code",
   "execution_count": null,
   "metadata": {},
   "outputs": [],
   "source": []
  },
  {
   "cell_type": "markdown",
   "metadata": {},
   "source": [
    "###### Ex. Identify routes with passenger satisfaction scores below 6.0."
   ]
  },
  {
   "cell_type": "code",
   "execution_count": null,
   "metadata": {},
   "outputs": [],
   "source": []
  },
  {
   "cell_type": "markdown",
   "metadata": {},
   "source": [
    "###### Ex. Which routes are not meeting their target passenger counts?"
   ]
  },
  {
   "cell_type": "code",
   "execution_count": null,
   "metadata": {},
   "outputs": [],
   "source": []
  },
  {
   "cell_type": "markdown",
   "metadata": {},
   "source": [
    "###### Ex. Should any routes be considered for closure due to low passengers and low satisfaction? If yes, which ones?\n",
    "\n",
    "-  low passengers - passengers < 300\n",
    "-  low satisfaction - score < 6.0"
   ]
  },
  {
   "cell_type": "code",
   "execution_count": null,
   "metadata": {},
   "outputs": [],
   "source": []
  },
  {
   "cell_type": "markdown",
   "metadata": {},
   "source": [
    "###### Ex. List routes that are meeting or exceeding their passenger count targets."
   ]
  },
  {
   "cell_type": "code",
   "execution_count": null,
   "metadata": {},
   "outputs": [],
   "source": []
  },
  {
   "cell_type": "markdown",
   "metadata": {},
   "source": [
    "###### Ex. Which routes might benefit from increasing shuttle frequency to meet demand?\n",
    "\n",
    "HINT - \n",
    "1. Calculate passengers per trip for each route\n",
    "2. Calculate average passengers per trip across all routes\n",
    "3. Identify routes where passengers per trip exceed average, indicating a potential need to increase frequency"
   ]
  },
  {
   "cell_type": "code",
   "execution_count": null,
   "metadata": {},
   "outputs": [],
   "source": []
  },
  {
   "cell_type": "markdown",
   "metadata": {},
   "source": [
    "###### Ex. Find the routes where target profit is not achieved and print the percentage target achievement in sorted order"
   ]
  },
  {
   "cell_type": "code",
   "execution_count": null,
   "metadata": {},
   "outputs": [],
   "source": []
  },
  {
   "cell_type": "markdown",
   "metadata": {},
   "source": [
    "<hr><hr>"
   ]
  },
  {
   "cell_type": "markdown",
   "metadata": {},
   "source": [
    "## Dataframe - Datastructure\n",
    "- Pandas is an open source library in python which is know for its rich applications and utilities for all kinds of mathematical, financial and statistical functions\n",
    "- It is useful in data manipulation and analysis\n",
    "- It provides fast, flexible, and expressive data structures designed to make working with structured (tabular, multidimensional, potentially heterogeneous) and time series data\n",
    "\n"
   ]
  },
  {
   "cell_type": "code",
   "execution_count": null,
   "metadata": {},
   "outputs": [],
   "source": [
    "import numpy as np\n",
    "import pandas as pd\n",
    "import matplotlib.pyplot as plt\n",
    "import seaborn as sns"
   ]
  },
  {
   "cell_type": "markdown",
   "metadata": {},
   "source": [
    "### Creating Dataframes"
   ]
  },
  {
   "cell_type": "code",
   "execution_count": null,
   "metadata": {},
   "outputs": [],
   "source": [
    "employees = {\"Name\" : [\"Jack\", \"Bill\", \"Lizie\", \"Jane\", \"George\"],\n",
    "            \"Designation\" : [\"HR\", \"Manager\", \"Developer\", \"Intern\", \"Manager\"],\n",
    "            \"Salary\": [40000, 60000, 25000, 12000, 70000]}\n",
    "\n",
    "df = pd.DataFrame(employees)\n",
    "df"
   ]
  },
  {
   "cell_type": "markdown",
   "metadata": {},
   "source": [
    "##### Note - Each column of a dataframe is a Series object"
   ]
  },
  {
   "cell_type": "markdown",
   "metadata": {},
   "source": [
    "### Accessing Dataframes"
   ]
  },
  {
   "cell_type": "markdown",
   "metadata": {},
   "source": [
    "###### Ex. Extract Name column"
   ]
  },
  {
   "cell_type": "code",
   "execution_count": null,
   "metadata": {},
   "outputs": [],
   "source": []
  },
  {
   "cell_type": "markdown",
   "metadata": {},
   "source": [
    "###### Ex. Extract first row"
   ]
  },
  {
   "cell_type": "code",
   "execution_count": null,
   "metadata": {},
   "outputs": [],
   "source": []
  },
  {
   "cell_type": "markdown",
   "metadata": {},
   "source": [
    "###### Ex. Convert series into a dataframe"
   ]
  },
  {
   "cell_type": "code",
   "execution_count": null,
   "metadata": {},
   "outputs": [],
   "source": []
  },
  {
   "cell_type": "markdown",
   "metadata": {},
   "source": [
    "###### Ex. Extract Name and Salary columns"
   ]
  },
  {
   "cell_type": "code",
   "execution_count": null,
   "metadata": {},
   "outputs": [],
   "source": []
  },
  {
   "cell_type": "markdown",
   "metadata": {},
   "source": [
    "### Setting and Re-setting index labels\n",
    "\n",
    "#### `df.set_index(keys, drop=True, inplace=False,)`\n",
    "- Set the DataFrame index (row labels) using one or more existing columns or arrays (of the correct length). The index can replace the existing index or expand on it.\n",
    "#### `df.reset_index(level=None, drop=False, inplace=False,)` \n",
    "- Reset the index of the DataFrame, and use the default one instead. If the DataFrame has a MultiIndex, this method can remove one or more levels."
   ]
  },
  {
   "cell_type": "markdown",
   "metadata": {},
   "source": [
    "###### Ex. Set Name column as row index/label"
   ]
  },
  {
   "cell_type": "code",
   "execution_count": null,
   "metadata": {},
   "outputs": [],
   "source": []
  },
  {
   "cell_type": "markdown",
   "metadata": {},
   "source": [
    "### Indexing and Slicing on DataFrames\n",
    "1. Based on labels - loc\n",
    "2. Based on index positions - iloc"
   ]
  },
  {
   "cell_type": "markdown",
   "metadata": {},
   "source": [
    "###### Ex. Extract data for \"Jack\""
   ]
  },
  {
   "cell_type": "code",
   "execution_count": null,
   "metadata": {},
   "outputs": [],
   "source": []
  },
  {
   "cell_type": "markdown",
   "metadata": {},
   "source": [
    "###### Ex. Extract data for Jack and Lizie"
   ]
  },
  {
   "cell_type": "code",
   "execution_count": null,
   "metadata": {},
   "outputs": [],
   "source": []
  },
  {
   "cell_type": "markdown",
   "metadata": {},
   "source": [
    "###### Ex. Extract salary data for Jack and Lizie"
   ]
  },
  {
   "cell_type": "code",
   "execution_count": null,
   "metadata": {},
   "outputs": [],
   "source": []
  },
  {
   "cell_type": "markdown",
   "metadata": {},
   "source": [
    "###### Ex. Extract data for row index 2"
   ]
  },
  {
   "cell_type": "code",
   "execution_count": null,
   "metadata": {},
   "outputs": [],
   "source": []
  },
  {
   "cell_type": "markdown",
   "metadata": {},
   "source": [
    "###### Ex. Extract data for row index 1 to 3"
   ]
  },
  {
   "cell_type": "code",
   "execution_count": null,
   "metadata": {},
   "outputs": [],
   "source": []
  },
  {
   "cell_type": "markdown",
   "metadata": {},
   "source": [
    "###### Ex. Reset index"
   ]
  },
  {
   "cell_type": "code",
   "execution_count": null,
   "metadata": {},
   "outputs": [],
   "source": []
  },
  {
   "cell_type": "markdown",
   "metadata": {},
   "source": [
    "### Filtering Dataframes"
   ]
  },
  {
   "cell_type": "markdown",
   "metadata": {},
   "source": [
    "###### Ex. Extract salary > 50000"
   ]
  },
  {
   "cell_type": "code",
   "execution_count": null,
   "metadata": {},
   "outputs": [],
   "source": []
  },
  {
   "cell_type": "markdown",
   "metadata": {},
   "source": [
    "###### Ex. Extract salary between 20000 to 50000"
   ]
  },
  {
   "cell_type": "code",
   "execution_count": null,
   "metadata": {},
   "outputs": [],
   "source": []
  },
  {
   "cell_type": "markdown",
   "metadata": {},
   "source": [
    "###### Ex. Extract designation either as HR or Developer"
   ]
  },
  {
   "cell_type": "code",
   "execution_count": null,
   "metadata": {},
   "outputs": [],
   "source": []
  },
  {
   "cell_type": "markdown",
   "metadata": {},
   "source": [
    "###### Ex. Extract employees who name starts with J"
   ]
  },
  {
   "cell_type": "code",
   "execution_count": null,
   "metadata": {},
   "outputs": [],
   "source": []
  },
  {
   "cell_type": "markdown",
   "metadata": {},
   "source": [
    "###### Ex. Modify the salary of all employees to 80000 whose original salary is > 300000"
   ]
  },
  {
   "cell_type": "code",
   "execution_count": null,
   "metadata": {},
   "outputs": [],
   "source": []
  },
  {
   "cell_type": "markdown",
   "metadata": {},
   "source": [
    "### Operations on dataframes"
   ]
  },
  {
   "cell_type": "markdown",
   "metadata": {},
   "source": [
    "###### Ex. Average Salary"
   ]
  },
  {
   "cell_type": "code",
   "execution_count": null,
   "metadata": {},
   "outputs": [],
   "source": []
  },
  {
   "cell_type": "markdown",
   "metadata": {},
   "source": [
    "###### Ex. Average Salary of managers"
   ]
  },
  {
   "cell_type": "code",
   "execution_count": null,
   "metadata": {},
   "outputs": [],
   "source": []
  },
  {
   "cell_type": "markdown",
   "metadata": {},
   "source": [
    "## Data Manipulation using `pandas`"
   ]
  },
  {
   "cell_type": "code",
   "execution_count": null,
   "metadata": {},
   "outputs": [],
   "source": [
    "import numpy as np\n",
    "import pandas as pd\n",
    "import matplotlib.pyplot as plt\n",
    "import seaborn as sns\n",
    "\n",
    "plt.rcParams[\"figure.figsize\"] = (6, 2)\n",
    "# Title\n",
    "plt.rcParams['axes.titlesize'] = \"medium\"        # Title font size\n",
    "plt.rcParams['axes.titlecolor'] = 'midnightblue' # Title font color\n",
    "\n",
    "# X and Y axis labels\n",
    "plt.rcParams['axes.labelsize'] = \"x-small\"          # Label font size\n",
    "plt.rcParams['axes.labelcolor'] = 'darkslategrey' # Label font color\n",
    "\n",
    "# Tick labels\n",
    "plt.rcParams['xtick.color'] = 'darkslategrey'        # X-axis tick color\n",
    "plt.rcParams['ytick.color'] = 'darkslategrey'        # Y-axis tick color\n",
    "plt.rcParams['xtick.labelsize'] = \"x-small\"          # X-axis tick size\n",
    "plt.rcParams['ytick.labelsize'] = \"x-small\"          # Y-axis tick size\n",
    "\n",
    "# Legend\n",
    "plt.rcParams['legend.fontsize'] = \"x-small\"          # Legend text size\n",
    "plt.rcParams['legend.edgecolor'] = 'black'   # Legend border color\n",
    "plt.rcParams['legend.facecolor'] = 'lightgray' # Legend background color\n",
    "plt.rcParams['legend.labelcolor'] = 'darkslategrey'  # Legend label text color"
   ]
  },
  {
   "cell_type": "markdown",
   "metadata": {},
   "source": [
    "###### Ex. Read data from excel"
   ]
  },
  {
   "cell_type": "code",
   "execution_count": null,
   "metadata": {},
   "outputs": [],
   "source": [
    "pd.read_excel(r\"file.xlsx\", sheet_name=\"Sheet1\")\n",
    "# requires module - openpyxl | for Excel automations - xlwings"
   ]
  },
  {
   "cell_type": "markdown",
   "metadata": {},
   "source": [
    "###### Ex. Read data from coffee_sales.csv"
   ]
  },
  {
   "cell_type": "code",
   "execution_count": null,
   "metadata": {},
   "outputs": [],
   "source": []
  },
  {
   "cell_type": "markdown",
   "metadata": {},
   "source": [
    "###### Ex. Rename headers"
   ]
  },
  {
   "cell_type": "code",
   "execution_count": null,
   "metadata": {},
   "outputs": [],
   "source": []
  },
  {
   "cell_type": "markdown",
   "metadata": {},
   "source": [
    "#### Attributes of dataframe"
   ]
  },
  {
   "cell_type": "markdown",
   "metadata": {},
   "source": [
    "###### Ex. How many rows are there in the df?"
   ]
  },
  {
   "cell_type": "code",
   "execution_count": null,
   "metadata": {},
   "outputs": [],
   "source": []
  },
  {
   "cell_type": "markdown",
   "metadata": {},
   "source": [
    "#### Check for null values\n",
    "`df.isna()` - Detect missing values. Return a boolean same-sized object indicating if the values are NA."
   ]
  },
  {
   "cell_type": "code",
   "execution_count": null,
   "metadata": {},
   "outputs": [],
   "source": []
  },
  {
   "cell_type": "markdown",
   "metadata": {},
   "source": [
    "###### Ex. Are all the rows of first column null?"
   ]
  },
  {
   "cell_type": "code",
   "execution_count": null,
   "metadata": {},
   "outputs": [],
   "source": []
  },
  {
   "cell_type": "markdown",
   "metadata": {},
   "source": [
    "#### Drop Column"
   ]
  },
  {
   "cell_type": "markdown",
   "metadata": {},
   "source": [
    "###### Ex. Drop unnamed 0 column"
   ]
  },
  {
   "cell_type": "code",
   "execution_count": null,
   "metadata": {},
   "outputs": [],
   "source": []
  },
  {
   "cell_type": "markdown",
   "metadata": {},
   "source": [
    "#### Remove/Replace nulls\n",
    "\n",
    "- `df.fillna(value=None, inplace=False)` - Fill NA/NaN values using the specified method.\n",
    "- `df.dropna(axis = 0, how = \"any\", inplace = False)`\n",
    "    - axis 0 for row or 1 for column\n",
    "    - how - {any or all}"
   ]
  },
  {
   "cell_type": "markdown",
   "metadata": {},
   "source": [
    "###### Ex. Remove null rows and columns"
   ]
  },
  {
   "cell_type": "code",
   "execution_count": null,
   "metadata": {},
   "outputs": [],
   "source": []
  },
  {
   "cell_type": "markdown",
   "metadata": {},
   "source": [
    "###### Ex. After dropping Unnamed 0 column. \n",
    "    1. Check for nulls\n",
    "    2. drop rows with all null values\n",
    "    3. Identify values to replaced with default"
   ]
  },
  {
   "cell_type": "code",
   "execution_count": null,
   "metadata": {},
   "outputs": [],
   "source": []
  },
  {
   "cell_type": "markdown",
   "metadata": {},
   "source": [
    "###### Ex. Are there any null values in specific rows or columns?"
   ]
  },
  {
   "cell_type": "code",
   "execution_count": null,
   "metadata": {},
   "outputs": [],
   "source": []
  },
  {
   "cell_type": "markdown",
   "metadata": {},
   "source": [
    "###### Ex. Extract the rows with null value to check if the row to be deleted or the NaN to be replaced?"
   ]
  },
  {
   "cell_type": "code",
   "execution_count": null,
   "metadata": {},
   "outputs": [],
   "source": []
  },
  {
   "cell_type": "markdown",
   "metadata": {},
   "source": [
    "##### Note - \n",
    "This is older syntax. New syntax to be followed is - `df.method({col: value}, inplace=True)`"
   ]
  },
  {
   "cell_type": "markdown",
   "metadata": {},
   "source": [
    "#### Data Cleaning"
   ]
  },
  {
   "cell_type": "markdown",
   "metadata": {},
   "source": [
    "###### Ex. Convert all numeric column to float"
   ]
  },
  {
   "cell_type": "code",
   "execution_count": null,
   "metadata": {},
   "outputs": [],
   "source": []
  },
  {
   "cell_type": "markdown",
   "metadata": {},
   "source": [
    "###### Ex. Display total sales generated by products from product type - Coffee"
   ]
  },
  {
   "cell_type": "code",
   "execution_count": null,
   "metadata": {},
   "outputs": [],
   "source": []
  },
  {
   "cell_type": "markdown",
   "metadata": {},
   "source": [
    "###### Ex. Display total sales generated by Coffee products in Manipur"
   ]
  },
  {
   "cell_type": "code",
   "execution_count": null,
   "metadata": {},
   "outputs": [],
   "source": []
  },
  {
   "cell_type": "markdown",
   "metadata": {},
   "source": [
    "###### Ex. Display names of all the products sold."
   ]
  },
  {
   "cell_type": "code",
   "execution_count": null,
   "metadata": {},
   "outputs": [],
   "source": []
  },
  {
   "cell_type": "markdown",
   "metadata": {},
   "source": [
    "#### Sorting Dafatrame\n",
    "- df.sort_values(`ascending=True`, `inplace=False`, `na_position = {\"first\",\"last\"}`)\n",
    "- df.sort_index(`ascending=True`, `inplace=False`)"
   ]
  },
  {
   "cell_type": "code",
   "execution_count": null,
   "metadata": {},
   "outputs": [],
   "source": []
  },
  {
   "cell_type": "markdown",
   "metadata": {},
   "source": [
    "#### Add Column by calculation to the dataframe"
   ]
  },
  {
   "cell_type": "markdown",
   "metadata": {},
   "source": [
    "###### Ex. Apply 7% service tax to sales values and add it as a new column"
   ]
  },
  {
   "cell_type": "code",
   "execution_count": null,
   "metadata": {},
   "outputs": [],
   "source": []
  },
  {
   "cell_type": "markdown",
   "metadata": {},
   "source": [
    "###### Ex. Check the status of target sales and add it to the dataframe as a new column\n",
    "\n",
    "**np.where(`condition`, `true value`, `false value`)** - > array object"
   ]
  },
  {
   "cell_type": "code",
   "execution_count": null,
   "metadata": {},
   "outputs": [],
   "source": []
  },
  {
   "cell_type": "markdown",
   "metadata": {},
   "source": [
    "###### Ex. Count number of transactions achieving the targets. Display it as a bar graph."
   ]
  },
  {
   "cell_type": "code",
   "execution_count": null,
   "metadata": {},
   "outputs": [],
   "source": []
  },
  {
   "cell_type": "markdown",
   "metadata": {},
   "source": [
    "**np.select(`cond_list`, `result_list`, `default = 0`)**"
   ]
  },
  {
   "cell_type": "code",
   "execution_count": null,
   "metadata": {},
   "outputs": [],
   "source": []
  },
  {
   "cell_type": "markdown",
   "metadata": {},
   "source": [
    "#### Aggregating Dataframes\n",
    "- `df.groupby(by=None,as_index=True, sort=True)`"
   ]
  },
  {
   "cell_type": "markdown",
   "metadata": {},
   "source": [
    "###### Ex. Total sales generated by all products"
   ]
  },
  {
   "cell_type": "code",
   "execution_count": null,
   "metadata": {},
   "outputs": [],
   "source": []
  },
  {
   "cell_type": "markdown",
   "metadata": {},
   "source": [
    "#### Creating Pivot Table\n",
    "-   `df.pivot_table(index, columns, values, aggfunc, fill_value)`"
   ]
  },
  {
   "cell_type": "markdown",
   "metadata": {},
   "source": [
    "###### Ex. Display total sales by product and State - matrix chart"
   ]
  },
  {
   "cell_type": "code",
   "execution_count": null,
   "metadata": {},
   "outputs": [],
   "source": []
  },
  {
   "cell_type": "markdown",
   "metadata": {},
   "source": [
    "###### Ex. How many franchises in each city are selling each product?"
   ]
  },
  {
   "cell_type": "code",
   "execution_count": null,
   "metadata": {},
   "outputs": [],
   "source": []
  },
  {
   "cell_type": "markdown",
   "metadata": {},
   "source": [
    "#### Working with date column"
   ]
  },
  {
   "cell_type": "markdown",
   "metadata": {},
   "source": [
    "###### Ex. Convert date column to date type"
   ]
  },
  {
   "cell_type": "code",
   "execution_count": null,
   "metadata": {},
   "outputs": [],
   "source": []
  },
  {
   "cell_type": "markdown",
   "metadata": {},
   "source": [
    "###### Ex. Create a table representing total sales over years and month"
   ]
  },
  {
   "cell_type": "code",
   "execution_count": null,
   "metadata": {},
   "outputs": [],
   "source": []
  },
  {
   "cell_type": "markdown",
   "metadata": {},
   "source": [
    "###### Ex. Create a line chart using seaborn visualising sales on months and years - Trend"
   ]
  },
  {
   "cell_type": "code",
   "execution_count": null,
   "metadata": {},
   "outputs": [],
   "source": []
  },
  {
   "cell_type": "markdown",
   "metadata": {},
   "source": [
    "###### Ex. Create a line chart using seaborn visualising sales agg on months - Sesonality"
   ]
  },
  {
   "cell_type": "code",
   "execution_count": null,
   "metadata": {},
   "outputs": [],
   "source": []
  },
  {
   "cell_type": "markdown",
   "metadata": {},
   "source": [
    "###### Ex. Bar - chart"
   ]
  },
  {
   "cell_type": "code",
   "execution_count": null,
   "metadata": {},
   "outputs": [],
   "source": []
  },
  {
   "cell_type": "markdown",
   "metadata": {},
   "source": [
    "###### Ex. Switch the line to constant value = avg(sales)"
   ]
  },
  {
   "cell_type": "code",
   "execution_count": null,
   "metadata": {},
   "outputs": [],
   "source": []
  },
  {
   "cell_type": "markdown",
   "metadata": {},
   "source": [
    "###### Ex. Assign teal to bar with sales above average and orange to sales below average"
   ]
  },
  {
   "cell_type": "code",
   "execution_count": null,
   "metadata": {},
   "outputs": [],
   "source": []
  },
  {
   "cell_type": "code",
   "execution_count": null,
   "metadata": {},
   "outputs": [],
   "source": []
  }
 ],
 "metadata": {
  "colab": {
   "provenance": []
  },
  "kernelspec": {
   "display_name": "Python 3 (ipykernel)",
   "language": "python",
   "name": "python3"
  },
  "language_info": {
   "codemirror_mode": {
    "name": "ipython",
    "version": 3
   },
   "file_extension": ".py",
   "mimetype": "text/x-python",
   "name": "python",
   "nbconvert_exporter": "python",
   "pygments_lexer": "ipython3",
   "version": "3.12.0"
  }
 },
 "nbformat": 4,
 "nbformat_minor": 4
}
