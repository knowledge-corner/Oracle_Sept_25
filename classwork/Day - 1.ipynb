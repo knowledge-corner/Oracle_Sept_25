{
 "cells": [
  {
   "attachments": {},
   "cell_type": "markdown",
   "metadata": {},
   "source": [
    "# **All about Python Programming**\n",
    "\n",
    "### Course Agenda\n",
    "\n",
    "**1. Programming Basics**\n",
    "- **Variables**: Declaration, initialization, and usage.\n",
    "- **Operators**: Arithmetic, comparison, logical, assignment, and bitwise operators.\n",
    "- **Decision Making**: `if`, `elif`, `else` statements for conditional execution.\n",
    "- **Iteration**: `for` and `while` loops for repetitive tasks.\n",
    "- **Sequences**: String manipulation and basic operations with lists.\n",
    "\n",
    "---\n",
    "\n",
    "**2. Data Structures in Python**\n",
    "- **List**: Creation, indexing, slicing, and operations.\n",
    "- **Tuple**: Immutable sequences, creation, and usage.\n",
    "- **Set**: Unique elements, set operations like union, intersection, and difference.\n",
    "- **Dictionary**: Key-value pairs, dictionary methods, and usage.\n",
    "\n",
    "---\n",
    "\n",
    "**3. Functions**\n",
    "- **Function Arguments**: Positional, keyword, default arguments, and variable-length arguments.\n",
    "- **Lambda Functions**: Anonymous functions, use cases, and syntax.\n",
    "- **Function Objects**: Passing functions as arguments, returning functions from other functions.\n",
    "- **Map, Filter, Reduce**: Functional programming tools for processing collections.\n",
    "\n",
    "---\n",
    "\n",
    "**4. Exception Handling**\n",
    "- **Handling Exceptions**: `try`, `except`, `finally`, and `else` clauses.\n",
    "- **Raising Exceptions**: Custom exceptions and usage.\n",
    "\n",
    "---\n",
    "\n",
    "**5. Object Oriented Programming (OOP)**\n",
    "- **Classes and Objects**: Defining classes, creating objects, and understanding `self`.\n",
    "- **Attributes and Methods**: Instance variables, class variables, and methods.\n",
    "- **Inheritance**: Single and multiple inheritance, method overriding.\n",
    "- **Polymorphism**: Method overloading and operator overloading.\n",
    "- **Encapsulation**: Private variables and methods, using getters and setters.\n",
    "\n",
    "---\n",
    "\n",
    "**6. Regular Expressions**\n",
    "- **Introduction to Regex**: Basic syntax and usage in Python.\n",
    "- **Regex Functions**: `re.match()`, `re.search()`, `re.findall()`, `re.sub()`.\n",
    "- **Common Patterns**: Character classes, quantifiers, groups, and anchors.\n",
    "\n",
    "---\n",
    "\n",
    "**7. Connecting to External Data Sources**\n",
    "- **File Handling**: Reading and writing files (`open`, `read`, `write`, `with` statement).\n",
    "- **Databases**: Connecting to databases using `sqlite3` or other database connectors.\n",
    "- **Web APIs**: Fetching data from web APIs using the `requests` library.\n",
    "\n",
    "---\n",
    "\n",
    "**8. Requests Library**\n",
    "- **Introduction to HTTP Requests**: GET, POST, PUT, DELETE methods.\n",
    "- **Making Requests**: Using `requests` to send HTTP requests and handle responses.\n",
    "- **Handling JSON Data**: Parsing and processing JSON responses.\n",
    "\n",
    "<hr><hr>\n"
   ]
  },
  {
   "cell_type": "markdown",
   "metadata": {},
   "source": [
    "\n",
    "### Python Interface\n",
    "\n",
    "A Python interface refers to the means through which you can interact with Python programs, libraries, or external systems. Here are a few different ways you can interface with Python:\n",
    "\n",
    "**1. Interactive Python Shell (REPL)**\n",
    "- **Description**: The Python Shell, also known as the Read-Eval-Print Loop (REPL), is an interactive command-line interface where you can type and execute Python commands one at a time. This is useful for quick experiments and debugging.\n",
    "- **Example**: You can start the Python Shell by simply typing `python` or `python3` in your terminal or command prompt.\n",
    "\n",
    "**2. Integrated Development Environments (IDEs)**\n",
    "- **Popular IDEs**: PyCharm, Visual Studio Code, Spyder, Jupyter Notebook.\n",
    "- **Description**: IDEs provide a comprehensive environment for writing, testing, and debugging Python code. They come with features like syntax highlighting, code completion, version control integration, and more.\n",
    "- **Example**: PyCharm offers an advanced interface with debugging tools, refactoring support, and integration with version control systems like Git.\n",
    "\n",
    "**3. Jupyter Notebooks**\n",
    "- **Description**: Jupyter Notebooks are an interactive web-based environment where you can combine code execution, text, and visualizations in a single document. This is particularly useful for data analysis, machine learning, and teaching.\n",
    "- **Example**: You can run Jupyter Notebooks by installing the Jupyter package and starting a notebook server with the command `jupyter notebook`.\n",
    "\n",
    "**4. Command-Line Interface (CLI)**\n",
    "- **Description**: Python scripts can be executed directly from the command line. You can write Python programs that take command-line arguments and perform tasks based on those arguments.\n",
    "- **Example**: A Python script named `myscript.py` can be run using `python myscript.py` in the terminal.\n",
    "\n",
    "**5. Google Colab Notebook**\n",
    "- Can be access using - https://colab.research.google.com/\n",
    "- Requires google sign-in\n",
    "\n",
    "Each of these interfaces serves different purposes and can be chosen based on the specific requirements of your project or task.\n",
    "\n",
    "<hr><hr>\n"
   ]
  },
  {
   "cell_type": "markdown",
   "metadata": {},
   "source": [
    "#### Step-by-step guide to install Python and Visual Studio Code (VS Code) on Windows 11\n",
    "\n",
    "**Step 1: Install Python**\n",
    "\n",
    "1. Download Python:\n",
    "\n",
    "   * Go to the official Python website: [https://www.python.org/downloads/](https://www.python.org/downloads/)\n",
    "   * Click on the \"Download Python\" button to get the latest version.\n",
    "\n",
    "2. Run the Installer:\n",
    "\n",
    "   * Open the downloaded installer.\n",
    "   * Check the box that says **\"Add Python to PATH\"**.\n",
    "   * Click on **\"Install Now\"**.\n",
    "\n",
    "3. Verify Installation:\n",
    "\n",
    "   * Open Command Prompt.\n",
    "   * Type `python --version` and press Enter.\n",
    "   * You should see the installed Python version displayed.\n",
    "\n",
    "---\n",
    "\n",
    "**Step 2: Install Visual Studio Code (VS Code)**\n",
    "\n",
    "1. Download VS Code:\n",
    "\n",
    "   * Visit the official VS Code website: [https://code.visualstudio.com/download](https://code.visualstudio.com/download)\n",
    "   * Click on the \"Download for Windows\" button.\n",
    "\n",
    "2. Install VS Code:\n",
    "\n",
    "   * Run the downloaded installer.\n",
    "   * Follow the setup wizard:\n",
    "\n",
    "     * Accept the license agreement.\n",
    "     * Choose the installation location.\n",
    "     * Select additional tasks (e.g., create a desktop icon, add to PATH).\n",
    "   * Click **\"Install\"** to begin the installation.\n",
    "\n",
    "3. Launch VS Code:\n",
    "\n",
    "   * After installation, open VS Code from the Start menu or desktop shortcut.\n",
    "\n",
    "---\n",
    "\n",
    "**Step 3: Install Python Extension in VS Code**\n",
    "\n",
    "1. Open Extensions View:\n",
    "\n",
    "   * In VS Code, click on the Extensions icon on the left sidebar (or press `Ctrl+Shift+X`).\n",
    "\n",
    "2. Search and Install Python Extension:\n",
    "\n",
    "   * Type `Python` in the search bar.\n",
    "   * Locate the extension named **\"Python\"** by Microsoft.\n",
    "   * Click **\"Install\"**.\n",
    "\n",
    "   This extension provides features like IntelliSense, linting, debugging, and more.&#x20;\n",
    "\n",
    "---\n",
    "\n",
    "**Step 4: Install Jupyter Extension in VS Code**\n",
    "\n",
    "1. Search and Install Jupyter Extension:\n",
    "\n",
    "   * In the Extensions view (`Ctrl+Shift+X`), type `Jupyter` in the search bar.\n",
    "   * Find the extension named **\"Jupyter\"** by Microsoft.\n",
    "   * Click **\"Install\"**.\n",
    "\n",
    "   This extension allows you to work with Jupyter Notebooks directly within VS Code.&#x20;\n",
    "\n",
    "---\n",
    "\n",
    "**Step 5: Configure Python Interpreter in VS Code**\n",
    "\n",
    "1. Open Command Palette:\n",
    "\n",
    "   * Press `Ctrl+Shift+P` to open the Command Palette.\n",
    "\n",
    "2. Select Python Interpreter:\n",
    "\n",
    "   * Type `Python: Select Interpreter` and select it.\n",
    "   * Choose the Python interpreter you installed earlier (e.g., Python 3.x.x).\n",
    "\n",
    "   This ensures that VS Code uses the correct Python version for your projects.&#x20;\n",
    "\n",
    "---\n",
    "\n",
    "**Step 6: Create and Run a Jupyter Notebook**\n",
    "\n",
    "1. Create a New Notebook:\n",
    "\n",
    "   * In VS Code, press `Ctrl+Shift+P` to open the Command Palette.\n",
    "   * Type `Jupyter: Create New Jupyter Notebook` and select it.\n",
    "\n",
    "2. Write and Execute Code:\n",
    "\n",
    "   * In the new notebook, you can add code cells and write Python code.\n",
    "   * Click the play icon next to each cell to execute it.\n",
    "\n",
    "   Ensure that the correct Python interpreter is selected for the notebook.&#x20;\n",
    "\n",
    "---"
   ]
  },
  {
   "cell_type": "markdown",
   "metadata": {},
   "source": [
    "\n",
    "## **Module 1. Programming Basics**\n",
    "- **Variables**: Declaration, initialization, and usage.\n",
    "- **Operators**: Arithmetic, comparison, logical, assignment, and bitwise operators.\n",
    "- **Decision Making**: `if`, `elif`, `else` statements for conditional execution.\n",
    "- **Iteration**: `for` and `while` loops for repetitive tasks.\n",
    "- **Sequences**: String manipulation and basic operations with lists.\n",
    "\n",
    "<hr>\n",
    "\n",
    "### Features of Python Programming Language-\n",
    "Python is a versatile and powerful programming language that is widely used in various fields. Here are some of its key features:\n",
    "\n",
    "#### **1. Easy to Learn and Use**\n",
    "- **Readability**: Python has a clear and easy-to-read syntax which makes it accessible for beginners.\n",
    "- **Minimal Syntax**: Python code is concise and easy to write, reducing the need for complex boilerplate code.\n",
    "\n",
    "#### **2. Interpreted Language**\n",
    "- **No Compilation**: Python is an interpreted language, meaning you can run the code directly without needing to compile it first.\n",
    "- **Interactive Mode**: Python provides an interactive mode, allowing you to execute code line by line and test small snippets quickly.\n",
    "\n",
    "#### **3. High-Level Language**\n",
    "- **Abstracted Details**: Python abstracts many low-level details such as memory management, making it easier to focus on the logic of the code.\n",
    "- **Built-in Data Types**: Python includes powerful built-in data types such as lists, tuples, sets, and dictionaries.\n",
    "\n",
    "#### **4. Dynamically Typed**\n",
    "- **No Explicit Declarations**: Variable types are determined at runtime, eliminating the need for explicit type declarations.\n",
    "- **Flexibility**: This dynamic typing provides flexibility in coding and faster prototyping.\n",
    "\n",
    "#### **5. Extensive Standard Library**\n",
    "- **Wide Range of Modules**: Python's standard library includes modules for various tasks such as file I/O, system calls, web development, and data manipulation.\n",
    "- **Out-of-the-Box Functionality**: Many common programming tasks can be accomplished without the need for external libraries.\n",
    "\n",
    "#### **6. Cross-Platform Compatibility**\n",
    "- **Portable**: Python code can run on various operating systems such as Windows, macOS, and Linux without modification.\n",
    "- **Platform Independence**: Python's platform independence makes it ideal for developing cross-platform applications.\n",
    "\n",
    "#### **7. Object-Oriented Programming**\n",
    "- **Class Support**: Python supports object-oriented programming with classes and inheritance, allowing for modular and reusable code.\n",
    "- **Encapsulation and Polymorphism**: Python supports encapsulation and polymorphism, essential features for building complex applications.\n",
    "\n",
    "#### **8. Large Community and Ecosystem**\n",
    "- **Active Community**: Python has a large and active community that contributes to its continuous improvement.\n",
    "- **Rich Ecosystem**: There are numerous third-party libraries and frameworks available, such as NumPy for numerical computing, Pandas for data manipulation, Flask and Django for web development, and TensorFlow and PyTorch for machine learning.\n",
    "\n",
    "#### **9. Integration Capabilities**\n",
    "- **Interoperability**: Python can easily integrate with other languages and technologies, such as C, C++, Java, and .NET.\n",
    "- **Scripting**: It can be used as a scripting language to automate tasks and enhance the functionality of existing applications.\n",
    "\n",
    "#### **10. Strong Support for Data Science and Machine Learning**\n",
    "- **Data Analysis**: Python is extensively used in data analysis with libraries like Pandas, Matplotlib, and Seaborn.\n",
    "- **Machine Learning**: Python is a popular choice for machine learning and artificial intelligence with libraries like TensorFlow, Keras, and Scikit-Learn.\n",
    "  \n",
    "\n",
    "Python's combination of readability, flexibility, and an extensive ecosystem makes it an excellent choice for both beginners and experienced developers. Whether you're building web applications, data analysis tools, or machine learning models, Python provides the tools and features you need to succeed. \n",
    "\n",
    "<hr><br><br>\n",
    "\n",
    "### Python Data Types\n",
    "\n",
    "Python has several built-in data types that allow you to store and manipulate different kinds of data. Here are the primary data types in Python:\n",
    "\n",
    "<table style=\"width: 60%; border-collapse: collapse; border: 1px solid #ccc; text-align: center;margin-left: 0;\">\n",
    "  <thead>\n",
    "    <tr style=\"background-color: #050A30; color: white;\">\n",
    "      <th>Data Type</th>\n",
    "      <th>Description</th>\n",
    "      <th>Examples</th>\n",
    "    </tr>\n",
    "  </thead>\n",
    "  <tbody>\n",
    "    <tr>\n",
    "      <td>int</td>\n",
    "      <td>Integer numbers</td>\n",
    "      <td>42, -7</td>\n",
    "    </tr>\n",
    "    <tr>\n",
    "      <td>float</td>\n",
    "      <td>Floating-point numbers (decimal)</td>\n",
    "      <td>3.14, -0.001</td>\n",
    "    </tr>\n",
    "    <tr>\n",
    "      <td>complex</td>\n",
    "      <td>Complex numbers</td>\n",
    "      <td>1+2j, -3+4j</td>\n",
    "    </tr>\n",
    "    <tr>\n",
    "      <td>bool</td>\n",
    "      <td>Boolean values</td>\n",
    "      <td>True, False</td>\n",
    "    </tr>\n",
    "    <tr>\n",
    "      <td>str</td>\n",
    "      <td>String, a sequence of characters</td>\n",
    "      <td>\"hello\", 'world'</td>\n",
    "    </tr>\n",
    "    <tr>\n",
    "      <td>bytes</td>\n",
    "      <td>Immutable sequence of bytes</td>\n",
    "      <td>b'hello'</td>\n",
    "    </tr>\n",
    "  </tbody>\n",
    "</table>\n",
    "\n",
    "<br><br>\n",
    "### Python Containers or Data structures\n",
    "\n",
    "In Python, containers refer to data structures that hold multiple elements together. They provide a way to manage and organize collections of data. Here are some common types of containers in Python:\n",
    "\n",
    "<table style=\"width: 60%; border-collapse: collapse; border: 1px solid #ccc; text-align: left; margin-left: 0;\">\n",
    "  <thead>\n",
    "    <tr style=\"background-color: #050A30; color: white;\">\n",
    "      <th style=\"text-align: left;\">Data Structure</th>\n",
    "      <th style=\"text-align: left;\">Definition</th>\n",
    "      <th style=\"text-align: left;\">Syntax</th>\n",
    "      <th style=\"text-align: left;\">Example</th>\n",
    "    </tr>\n",
    "  </thead>\n",
    "  <tbody>\n",
    "    <tr>\n",
    "      <td style=\"text-align: left;\">List</td>\n",
    "      <td style=\"text-align: left;\">An ordered, mutable (changeable) collection of items.</td>\n",
    "      <td style=\"text-align: left;\">Created using square brackets []</td>\n",
    "      <td style=\"text-align: left;\">`[1, 2, 3, 4]`</td>\n",
    "    </tr>\n",
    "    <tr>\n",
    "      <td style=\"text-align: left;\">Tuple</td>\n",
    "      <td style=\"text-align: left;\">An ordered, immutable (unchangeable) collection of items.</td>\n",
    "      <td style=\"text-align: left;\">Created using parentheses ()</td>\n",
    "      <td style=\"text-align: left;\">`(1, 2, 3, 4)`</td>\n",
    "    </tr>\n",
    "    <tr>\n",
    "      <td style=\"text-align: left;\">Set</td>\n",
    "      <td style=\"text-align: left;\">An unordered collection of unique items.</td>\n",
    "      <td style=\"text-align: left;\">Created using curly braces {} or the set() function.</td>\n",
    "      <td style=\"text-align: left;\">`{1, 2, 3, 4}` or `set([1, 2, 3, 4])`</td>\n",
    "    </tr>\n",
    "    <tr>\n",
    "      <td style=\"text-align: left;\">Dictionary</td>\n",
    "      <td style=\"text-align: left;\">An unordered collection of key-value pairs. Keys must be unique and immutable.</td>\n",
    "      <td style=\"text-align: left;\">Created using curly braces {} with key-value pairs separated by colons :</td>\n",
    "      <td style=\"text-align: left;\">`{'a': 1, 'b': 2, 'c': 3}`</td>\n",
    "    </tr>\n",
    "  </tbody>\n",
    "</table>\n",
    "\n",
    "<br><br>"
   ]
  },
  {
   "cell_type": "markdown",
   "metadata": {},
   "source": [
    "##### Note - Everything in Python is an Object"
   ]
  },
  {
   "cell_type": "markdown",
   "metadata": {},
   "source": [
    "#### Examples - "
   ]
  },
  {
   "cell_type": "markdown",
   "metadata": {},
   "source": [
    "###### Ex. Define variable name and assign value to the variable"
   ]
  },
  {
   "cell_type": "code",
   "execution_count": 1,
   "metadata": {},
   "outputs": [
    {
     "name": "stdout",
     "output_type": "stream",
     "text": [
      "Welcome Jane\n"
     ]
    }
   ],
   "source": [
    "name = \"Jane\"\n",
    "print(\"Welcome\", name)"
   ]
  },
  {
   "cell_type": "markdown",
   "metadata": {},
   "source": [
    "###### Ex. WAP to take name of user as input and print a welcome message"
   ]
  },
  {
   "cell_type": "code",
   "execution_count": 2,
   "metadata": {},
   "outputs": [
    {
     "name": "stdin",
     "output_type": "stream",
     "text": [
      "Enter your name -  George\n"
     ]
    },
    {
     "name": "stdout",
     "output_type": "stream",
     "text": [
      "Welcome George\n"
     ]
    }
   ],
   "source": [
    "name = input(\"Enter your name - \")\n",
    "print(\"Welcome\", name)"
   ]
  },
  {
   "cell_type": "markdown",
   "metadata": {},
   "source": [
    "###### Ex. WAP to take 2 numbers as input and display their sum"
   ]
  },
  {
   "cell_type": "code",
   "execution_count": 3,
   "metadata": {},
   "outputs": [
    {
     "name": "stdin",
     "output_type": "stream",
     "text": [
      "Enter a number -  5\n",
      "Enter a number -  7\n"
     ]
    },
    {
     "data": {
      "text/plain": [
       "'57'"
      ]
     },
     "execution_count": 3,
     "metadata": {},
     "output_type": "execute_result"
    }
   ],
   "source": [
    "num1 = input(\"Enter a number - \")\n",
    "num2 = input(\"Enter a number - \")\n",
    "total = num1 + num2\n",
    "total"
   ]
  },
  {
   "cell_type": "code",
   "execution_count": 4,
   "metadata": {},
   "outputs": [
    {
     "data": {
      "text/plain": [
       "str"
      ]
     },
     "execution_count": 4,
     "metadata": {},
     "output_type": "execute_result"
    }
   ],
   "source": [
    "type(num1)"
   ]
  },
  {
   "cell_type": "markdown",
   "metadata": {},
   "source": [
    "##### Note - input() always stores the value in str format"
   ]
  },
  {
   "cell_type": "code",
   "execution_count": 5,
   "metadata": {},
   "outputs": [
    {
     "name": "stdin",
     "output_type": "stream",
     "text": [
      "Enter a number -  5\n",
      "Enter a number -  7\n"
     ]
    },
    {
     "data": {
      "text/plain": [
       "12"
      ]
     },
     "execution_count": 5,
     "metadata": {},
     "output_type": "execute_result"
    }
   ],
   "source": [
    "num1 = int(input(\"Enter a number - \"))\n",
    "num2 = int(input(\"Enter a number - \"))\n",
    "total = num1 + num2\n",
    "total"
   ]
  },
  {
   "cell_type": "code",
   "execution_count": 6,
   "metadata": {},
   "outputs": [
    {
     "name": "stdin",
     "output_type": "stream",
     "text": [
      "Enter a number -  5\n",
      "Enter a number -  7\n"
     ]
    },
    {
     "data": {
      "text/plain": [
       "(5, 7)"
      ]
     },
     "execution_count": 6,
     "metadata": {},
     "output_type": "execute_result"
    }
   ],
   "source": [
    "numbers = int(input(\"Enter a number - \")), int(input(\"Enter a number - \"))\n",
    "numbers"
   ]
  },
  {
   "cell_type": "code",
   "execution_count": 7,
   "metadata": {},
   "outputs": [
    {
     "name": "stdin",
     "output_type": "stream",
     "text": [
      "ENter numbers in comma seperated format -  5, 7\n"
     ]
    },
    {
     "data": {
      "text/plain": [
       "'5, 7'"
      ]
     },
     "execution_count": 7,
     "metadata": {},
     "output_type": "execute_result"
    }
   ],
   "source": [
    "numbers = input(\"ENter numbers in comma seperated format - \")\n",
    "numbers"
   ]
  },
  {
   "cell_type": "markdown",
   "metadata": {},
   "source": [
    "<hr><hr>"
   ]
  },
  {
   "attachments": {},
   "cell_type": "markdown",
   "metadata": {
    "scrolled": false
   },
   "source": [
    "### Operators in Python\n",
    "Operators are special symbols in Python that carry out computations. The value that the operator operates on is called as operand.\n",
    "\n",
    "#### 1. Arithmetic Operators\n",
    "These operators perform arithmetic operations on numeric values.\n",
    "\n",
    "- `+` : Addition\n",
    "- `-` : Subtraction\n",
    "- `*` : Multiplication\n",
    "- `/` : Division\n",
    "- `%` : Modulus (remainder of division)\n",
    "- `**` : Exponentiation (power)\n",
    "- `//` : Floor division (division that results in the largest integer less than or equal to the quotient)\n",
    "\n",
    "#### 2. Comparison Operators\n",
    "These operators compare two values and return a boolean result (True or False).\n",
    "\n",
    "- `==` : Equal to\n",
    "- `!=` : Not equal to\n",
    "- `>` : Greater than\n",
    "- `<` : Less than\n",
    "- `>=` : Greater than or equal to\n",
    "- `<=` : Less than or equal to\n",
    "\n",
    "#### 3. Logical Operators\n",
    "These operators are used to combine conditional statements.\n",
    "\n",
    "- `and` : Returns True if both statements are true\n",
    "- `or` : Returns True if at least one of the statements is true\n",
    "- `not` : Reverses the result, returns False if the result is true\n",
    "\n",
    "#### 4. Basic Assignment Operator\n",
    "`=` : Assigns the value on the right to the variable on the left.\n",
    "\n",
    "#### Compound Assignment Operators\n",
    "These operators perform an operation on a variable and then assign the result back to that variable.\n",
    "\n",
    "- `+=` : Adds the right operand to the left operand and assigns the result to the left operand.\n",
    "- `-=` : Subtracts the right operand from the left operand and assigns the result to the left operand.\n",
    "- `*=` : Multiplies the left operand by the right operand and assigns the result to the left operand.\n",
    "- `/=` : Divides the left operand by the right operand and assigns the result to the left operand.\n",
    "- `%=` : Takes the modulus of the left operand by the right operand and assigns the result to the left operand.\n",
    "- `//=` : Performs floor division on the left operand by the right operand and assigns the result to the left operand.\n",
    "- `**=` : Raises the left operand to the power of the right operand and assigns the result to the left operand.\n",
    "\n",
    "### Membership Operators\n",
    "\n",
    "Membership operators are used to test whether a value or variable is found in a sequence (such as a string, list, tuple, set, or dictionary). There are two membership operators in Python:\n",
    "\n",
    "- `in` - The in operator checks if a value is present in a sequence.\n",
    "- `not in` - The not in operator checks if a value is not present in a sequence.\n",
    "<br><br>"
   ]
  },
  {
   "cell_type": "markdown",
   "metadata": {},
   "source": [
    "#### Examples - "
   ]
  },
  {
   "cell_type": "markdown",
   "metadata": {},
   "source": [
    "###### Ex. WAP to accept hours and rate per hour from user and compute gross pay."
   ]
  },
  {
   "cell_type": "code",
   "execution_count": 10,
   "metadata": {},
   "outputs": [
    {
     "name": "stdin",
     "output_type": "stream",
     "text": [
      "Enter number of hrs -  40\n",
      "Enter rate per hr -  1000\n"
     ]
    },
    {
     "data": {
      "text/plain": [
       "40000.0"
      ]
     },
     "execution_count": 10,
     "metadata": {},
     "output_type": "execute_result"
    }
   ],
   "source": [
    "hrs = int(input(\"Enter number of hrs - \"))\n",
    "rate = float(input(\"Enter rate per hr - \"))\n",
    "gross_pay = hrs * rate\n",
    "gross_pay"
   ]
  },
  {
   "cell_type": "markdown",
   "metadata": {},
   "source": [
    "##### Note - In jupyter notebook, if last line of the code generates/returns a value it will be display as output by default. "
   ]
  },
  {
   "cell_type": "markdown",
   "metadata": {},
   "source": [
    "###### Ex. WAP to calculate BMI of a person."
   ]
  },
  {
   "cell_type": "code",
   "execution_count": 13,
   "metadata": {},
   "outputs": [
    {
     "name": "stdin",
     "output_type": "stream",
     "text": [
      "Enter height in mtrs -  1.7\n",
      "Enter weight in kgs -  70\n"
     ]
    },
    {
     "name": "stdout",
     "output_type": "stream",
     "text": [
      "BMI -  24.22\n"
     ]
    }
   ],
   "source": [
    "height = float(input(\"Enter height in mtrs - \"))\n",
    "weight = float(input(\"Enter weight in kgs - \"))\n",
    "bmi = round(weight / (height ** 2), 2)\n",
    "print(\"BMI - \", bmi)"
   ]
  },
  {
   "cell_type": "markdown",
   "metadata": {},
   "source": [
    "###### Ex. WAP to calculate the hypoteneous of a right angled triangle when sides are given"
   ]
  },
  {
   "cell_type": "code",
   "execution_count": 14,
   "metadata": {},
   "outputs": [
    {
     "data": {
      "text/plain": [
       "5.0"
      ]
     },
     "execution_count": 14,
     "metadata": {},
     "output_type": "execute_result"
    }
   ],
   "source": [
    "import math\n",
    "h = 4\n",
    "b = 3\n",
    "hypt = math.sqrt((h ** 2) + (b ** 2))\n",
    "hypt"
   ]
  },
  {
   "cell_type": "markdown",
   "metadata": {},
   "source": [
    "**Modules in Python -**\n",
    "- In Python, a module is a file containing Python definitions, functions, and statements.\n",
    "- Modules allow you to organize your code into separate files, making it easier to manage, reuse, and maintain.\n",
    "\n",
    "**Built-in Modules -**\n",
    "\n",
    "Python comes with a standard library of built-in modules that provide useful functions and tools. Some common built-in modules include:\n",
    "\n",
    "- math: Provides mathematical functions.\n",
    "- os: Interacts with the operating system.\n",
    "- sys: Accesses system-specific parameters and functions.\n",
    "- datetime: Manipulates dates and times.\n",
    "- random: Provides functions to generate random values"
   ]
  },
  {
   "cell_type": "markdown",
   "metadata": {},
   "source": [
    "###### Ex. Convert the sales value in thousands and concate `k` as suffix"
   ]
  },
  {
   "cell_type": "code",
   "execution_count": 18,
   "metadata": {},
   "outputs": [
    {
     "data": {
      "text/plain": [
       "'58.3k'"
      ]
     },
     "execution_count": 18,
     "metadata": {},
     "output_type": "execute_result"
    }
   ],
   "source": [
    "sales = 58349  # 48990 - 49.9\n",
    "str(round(sales/1000, 1)) + \"k\""
   ]
  },
  {
   "cell_type": "code",
   "execution_count": 19,
   "metadata": {},
   "outputs": [
    {
     "name": "stdout",
     "output_type": "stream",
     "text": [
      "Addition of 10 and 20 is 30\n"
     ]
    }
   ],
   "source": [
    "a = 10\n",
    "b = 20\n",
    "c = a + b\n",
    "print(\"Addition of\", a, \"and\", b , \"is\", c)"
   ]
  },
  {
   "cell_type": "code",
   "execution_count": 29,
   "metadata": {},
   "outputs": [
    {
     "data": {
      "text/plain": [
       "'Addition of 10 and 20 is 30'"
      ]
     },
     "execution_count": 29,
     "metadata": {},
     "output_type": "execute_result"
    }
   ],
   "source": [
    "f\"Addition of {a} and {b} is {c}\""
   ]
  },
  {
   "cell_type": "code",
   "execution_count": 27,
   "metadata": {},
   "outputs": [
    {
     "data": {
      "text/plain": [
       "' 58.3k'"
      ]
     },
     "execution_count": 27,
     "metadata": {},
     "output_type": "execute_result"
    }
   ],
   "source": [
    "sales = 58347\n",
    "f\"{sales/1000 : .1f}k\""
   ]
  },
  {
   "cell_type": "code",
   "execution_count": 30,
   "metadata": {},
   "outputs": [
    {
     "data": {
      "text/plain": [
       "'58.3k'"
      ]
     },
     "execution_count": 30,
     "metadata": {},
     "output_type": "execute_result"
    }
   ],
   "source": [
    "f\"{round(sales/1000, 1)}k\""
   ]
  },
  {
   "cell_type": "markdown",
   "metadata": {},
   "source": [
    "**Formatted Strings -** Introduced in Python 3.6, f-strings provide a more concise and readable way to format strings. You can include variables or expressions inside curly braces {} prefixed with an f."
   ]
  },
  {
   "cell_type": "markdown",
   "metadata": {},
   "source": [
    "<hr><hr>"
   ]
  },
  {
   "attachments": {},
   "cell_type": "markdown",
   "metadata": {},
   "source": [
    "## Decision Making\n",
    "\n",
    "Decision-making statements in Python allow you to control the flow of execution based on certain conditions. These statements include if, elif, and else and can be used to execute different blocks of code depending on whether conditions are True or False.\n",
    "\n",
    "- #### Basic if Statement\n",
    "    - The if statement evaluates a condition and executes a block of code if the condition is True.\n",
    "    - Syntax:<br>\n",
    "      `if condition:`<br>\n",
    "          &emsp;&emsp;`# block of code`\n",
    "\n",
    "- #### if-else Statement\n",
    "    - The if-else statement evaluates a condition and executes one block of code if the condition is True, and another block if the condition is False.\n",
    "    - Syntax:<br>\n",
    "    `if condition:`<br>\n",
    "    &emsp;&emsp;`# block of code if condition is True`<br>\n",
    "       `else:`<br>\n",
    "    &emsp;&emsp;`# block of code if condition is False`\n",
    "- #### if-elif-else Statement\n",
    "    - The if-elif-else statement allows you to check multiple expressions for True and execute a block of code as soon as one of the conditions evaluates to True.\n",
    "    - If none of the conditions are True, the else block is executed.\n",
    "    - Syntax:<br>\n",
    "    `if condition1:`<br>\n",
    "    &emsp;&emsp;`# block of code if condition1 is True`<br>\n",
    "    `elif condition2:`<br>\n",
    "        &emsp;&emsp;`# block of code if condition2 is True`<br>\n",
    "    `elif condition3:`<br>\n",
    "        &emsp;&emsp;`# block of code if condition3 is True`<br>\n",
    "    `else:`<br>\n",
    "    &emsp;&emsp;`# block of code if none of the conditions are True`\n",
    "\n",
    "- #### Nested if Statements\n",
    "    - You can nest if statements within other if statements to check multiple conditions in a hierarchical manner.\n",
    "    - Syntax:<br>\n",
    "    `if condition1:`<br>\n",
    "    &emsp;&emsp;`# block of code if condition1 is True`<br>\n",
    "    &emsp;&emsp;`if condition2:`<br>\n",
    "        &emsp;&emsp;&emsp;&emsp;`# block of code if condition2 is True`<br>\n",
    "    &emsp;&emsp;`else condition3:`<br>\n",
    "        &emsp;&emsp;&emsp;&emsp;`# block of code if condition2 is False`<br>\n",
    "    `else:`<br>\n",
    "    &emsp;&emsp;`# block of code if condition1 is False`\n",
    "\n",
    "- #### One-Line if-else\n",
    "\n",
    "    - Syntax: <br>\n",
    "  `value_if_true if condition else value_if_false`\n"
   ]
  },
  {
   "cell_type": "markdown",
   "metadata": {},
   "source": [
    "#### Examples -"
   ]
  },
  {
   "cell_type": "markdown",
   "metadata": {},
   "source": [
    "###### Ex. WAP to check if entered number is positive or negative"
   ]
  },
  {
   "cell_type": "code",
   "execution_count": 34,
   "metadata": {},
   "outputs": [
    {
     "name": "stdin",
     "output_type": "stream",
     "text": [
      "Enter a number -  -5\n"
     ]
    },
    {
     "name": "stdout",
     "output_type": "stream",
     "text": [
      "Negative\n"
     ]
    }
   ],
   "source": [
    "num = int(input(\"Enter a number - \"))\n",
    "if num > 0 :\n",
    "    print(\"Positive\")\n",
    "else:\n",
    "    print(\"Negative\")    "
   ]
  },
  {
   "cell_type": "markdown",
   "metadata": {},
   "source": [
    "###### Ex. WAP to accept hours and rate per hour from user and compute gross pay.\n",
    "- for 40 hrs pay the rate taken as input from user\n",
    "- if overtime then pay 1.5 times of rate for the `additional hrs.`\n"
   ]
  },
  {
   "cell_type": "code",
   "execution_count": 36,
   "metadata": {},
   "outputs": [
    {
     "name": "stdin",
     "output_type": "stream",
     "text": [
      "Enter number of hrs -  45\n",
      "Enter rate per hr -  1000\n"
     ]
    },
    {
     "name": "stdout",
     "output_type": "stream",
     "text": [
      "47500.0\n"
     ]
    }
   ],
   "source": [
    "hrs = int(input(\"Enter number of hrs - \"))\n",
    "rate = float(input(\"Enter rate per hr - \"))\n",
    "\n",
    "if hrs <= 40 :\n",
    "    gross_pay = hrs * rate\n",
    "else:\n",
    "    gross_pay = (40 * rate) + ((hrs - 40) * 1.5 * rate)\n",
    "\n",
    "print(gross_pay)"
   ]
  },
  {
   "cell_type": "markdown",
   "metadata": {},
   "source": [
    "###### Ex. WAP to accept a single character from user and check if it is a vowel or not."
   ]
  },
  {
   "cell_type": "code",
   "execution_count": 47,
   "metadata": {},
   "outputs": [
    {
     "name": "stdin",
     "output_type": "stream",
     "text": [
      "Enter a single character -  1\n"
     ]
    },
    {
     "name": "stdout",
     "output_type": "stream",
     "text": [
      "Invalid input\n"
     ]
    }
   ],
   "source": [
    "ch = input(\"Enter a single character - \").lower()\n",
    "if len(ch) == 1 and ch.isalpha() :\n",
    "    if ch in \"aeiou\" :\n",
    "        print(ch, \"is a vowel\")\n",
    "    else:\n",
    "        print(ch, \"is consonant\")\n",
    "else :\n",
    "    print(\"Invalid input\")"
   ]
  },
  {
   "cell_type": "markdown",
   "metadata": {},
   "source": [
    "###### Ex. Toss a coin and guess the outcome\n",
    "- Take guess as input from user as `heads` or `tails`\n",
    "- Validate the input - if invalid display it as `Invalid inputs`\n",
    "- For valid inputs -\n",
    "    - generate an outcome randomly from heads or tails\n",
    "    - compare guess with outcome\n",
    "    - if it is matching then print \"Win\"\n",
    "    - else print - \"lost\""
   ]
  },
  {
   "cell_type": "code",
   "execution_count": 56,
   "metadata": {},
   "outputs": [
    {
     "name": "stdin",
     "output_type": "stream",
     "text": [
      "Enter your guess as heads or tails -  heads\n"
     ]
    },
    {
     "name": "stdout",
     "output_type": "stream",
     "text": [
      "Outcome is -  tails\n",
      "Lost\n"
     ]
    }
   ],
   "source": [
    "import random as r\n",
    "guess = input(\"Enter your guess as heads or tails - \").lower()\n",
    "options = [\"heads\", \"tails\"]\n",
    "if guess in options :\n",
    "    outcome = r.choice(options)\n",
    "    print(\"Outcome is - \", outcome)\n",
    "    if guess == outcome :\n",
    "        print(\"Won\")\n",
    "    else:\n",
    "        print(\"Lost\")\n",
    "else:\n",
    "    print(\"Invalid input\")"
   ]
  },
  {
   "cell_type": "code",
   "execution_count": 53,
   "metadata": {},
   "outputs": [
    {
     "name": "stdout",
     "output_type": "stream",
     "text": [
      "['BPF', 'LOG4', 'NV_MAGICCONST', 'RECIP_BPF', 'Random', 'SG_MAGICCONST', 'SystemRandom', 'TWOPI', '_ONE', '_Sequence', '__all__', '__builtins__', '__cached__', '__doc__', '__file__', '__loader__', '__name__', '__package__', '__spec__', '_accumulate', '_acos', '_bisect', '_ceil', '_cos', '_e', '_exp', '_fabs', '_floor', '_index', '_inst', '_isfinite', '_lgamma', '_log', '_log2', '_os', '_pi', '_random', '_repeat', '_sha512', '_sin', '_sqrt', '_test', '_test_generator', '_urandom', '_warn', 'betavariate', 'binomialvariate', 'choice', 'choices', 'expovariate', 'gammavariate', 'gauss', 'getrandbits', 'getstate', 'lognormvariate', 'normalvariate', 'paretovariate', 'randbytes', 'randint', 'random', 'randrange', 'sample', 'seed', 'setstate', 'shuffle', 'triangular', 'uniform', 'vonmisesvariate', 'weibullvariate']\n"
     ]
    }
   ],
   "source": [
    "import random\n",
    "\n",
    "print(dir(random))"
   ]
  },
  {
   "cell_type": "code",
   "execution_count": 54,
   "metadata": {},
   "outputs": [
    {
     "name": "stdout",
     "output_type": "stream",
     "text": [
      "Help on method choice in module random:\n",
      "\n",
      "choice(seq) method of random.Random instance\n",
      "    Choose a random element from a non-empty sequence.\n",
      "\n"
     ]
    }
   ],
   "source": [
    "help(random.choice)"
   ]
  },
  {
   "cell_type": "markdown",
   "metadata": {},
   "source": [
    "###### Ex. 7up and 7down\n",
    "\n",
    "WAP to simulate the below mentioned scenario -\n",
    "\n",
    "1. Player enters the game with initial amount as Rs. 1,000/- \n",
    "2. Generate a random value between 1 to 14 and store it in variable \"outcome\"\n",
    "3. if outcome = 7, player hits a jackpot and wins Rs. 1,00,00,000.\n",
    "4. if outcome < 7, player looses amount by (outcome*100)\n",
    "5. if outcome > 7, player earns amount by (outcome*100)\n",
    "6. Print the final amount with the player."
   ]
  },
  {
   "cell_type": "code",
   "execution_count": 62,
   "metadata": {},
   "outputs": [
    {
     "name": "stdout",
     "output_type": "stream",
     "text": [
      "Your Score -  7\n",
      "You have win the Jackpot!!!\n",
      "Your final balance is -  1001000\n"
     ]
    }
   ],
   "source": [
    "import random as r\n",
    "amt = 1000\n",
    "outcome = r.randint(1, 14)\n",
    "print(\"Your Score - \", outcome)\n",
    "if outcome < 7 :\n",
    "    amt -= (outcome * 100)\n",
    "elif outcome > 7 :\n",
    "    amt += (outcome * 100)\n",
    "else:\n",
    "    print(\"You have win the Jackpot!!!\")\n",
    "    amt += 1000000\n",
    "print(\"Your final balance is - \", amt)"
   ]
  },
  {
   "cell_type": "markdown",
   "metadata": {},
   "source": [
    "###### Ex. Check if a number is even or odd"
   ]
  },
  {
   "cell_type": "code",
   "execution_count": 64,
   "metadata": {},
   "outputs": [
    {
     "name": "stdin",
     "output_type": "stream",
     "text": [
      "Enter a number -  5\n"
     ]
    },
    {
     "name": "stdout",
     "output_type": "stream",
     "text": [
      "odd\n"
     ]
    }
   ],
   "source": [
    "num = int(input(\"Enter a number - \"))\n",
    "if num % 2 == 0 :\n",
    "    print(\"Even\")\n",
    "else:\n",
    "    print(\"odd\")"
   ]
  },
  {
   "cell_type": "code",
   "execution_count": 65,
   "metadata": {},
   "outputs": [
    {
     "name": "stdin",
     "output_type": "stream",
     "text": [
      "Enter a number -  5\n"
     ]
    },
    {
     "data": {
      "text/plain": [
       "'odd'"
      ]
     },
     "execution_count": 65,
     "metadata": {},
     "output_type": "execute_result"
    }
   ],
   "source": [
    "num = int(input(\"Enter a number - \"))\n",
    "\"even\" if num % 2 == 0 else \"odd\"  # expression "
   ]
  },
  {
   "cell_type": "code",
   "execution_count": 66,
   "metadata": {},
   "outputs": [
    {
     "data": {
      "text/plain": [
       "'odd'"
      ]
     },
     "execution_count": 66,
     "metadata": {},
     "output_type": "execute_result"
    }
   ],
   "source": [
    "result = \"even\" if num % 2 == 0 else \"odd\"\n",
    "result "
   ]
  },
  {
   "cell_type": "markdown",
   "metadata": {},
   "source": [
    "<hr><hr>"
   ]
  },
  {
   "attachments": {},
   "cell_type": "markdown",
   "metadata": {},
   "source": [
    "## Loops/Iteration\n",
    "\n",
    "Loops are used to execute of a specific block of code in repetitively\n",
    "\n",
    "### while loop\n",
    "- The ‘while loop’ in Python is used to iterate over a block of code as long as the test expression holds true\n",
    "- Event based loop\n",
    "- Event occurring inside the loop determines the number of iterations\n",
    "- This loop is used when the number of times to iterate is not known to us beforehand\n",
    "\n",
    "\n",
    "### for loop\n",
    "- The ‘for loop’ in Python is used to iterate over the items of a sequence object like list, tuple, string and other iterable objects\n",
    "- The iteration continues until we reach the last item in the sequence object\n",
    "- Counter driven loop\n",
    "- This loop is used when the number of times to iterate is predefined\n",
    "\n",
    "#### break statement\n",
    "- The ‘break’ statement ends the loop and resumes execution at the next statement\n",
    "- The break statement can be used in both ‘while’ loop and ‘for’ loop\n",
    "- It is always used with conditional statements\n",
    "\n",
    "#### continue statement\n",
    "- The ‘continue’ statement in Python ignores all the remaining statements in the iteration of the current loop and moves the control back to the beginning of the loop\n",
    "- The continue statement can be used in both ‘while’ loop and ‘for’ loop\n",
    "- It is always used with conditional statements\n",
    "\n",
    "<br><br>"
   ]
  },
  {
   "cell_type": "markdown",
   "metadata": {},
   "source": [
    "#### Examples - "
   ]
  },
  {
   "cell_type": "markdown",
   "metadata": {},
   "source": [
    "###### Ex. Modify the 7up 7down program based on following rules - \n",
    "\n",
    "- Ask user his choice to play again as `yes/no`.\n",
    "- First round starts with amount balance as Rs. 1000. However, further rounds will be played on the balance amount generated from previous round. Example - in round 1 user earned Rs. 800. So for his next round amount will be Rs. 1,800 which is balance generated in previous round.\n",
    "- The game will terminate if user -\n",
    "    - choice to play again is `no`\n",
    "    - hits the `jackpot`\n",
    "    - has insufficient funds to play the next round."
   ]
  },
  {
   "cell_type": "code",
   "execution_count": null,
   "metadata": {},
   "outputs": [],
   "source": []
  },
  {
   "cell_type": "markdown",
   "metadata": {},
   "source": [
    "###### Ex. WAP to print square of numbers in the given list"
   ]
  },
  {
   "cell_type": "code",
   "execution_count": null,
   "metadata": {},
   "outputs": [],
   "source": []
  },
  {
   "cell_type": "markdown",
   "metadata": {},
   "source": [
    "###### Ex. WAP to accept a word from user and print vowels in the word"
   ]
  },
  {
   "cell_type": "code",
   "execution_count": null,
   "metadata": {},
   "outputs": [],
   "source": []
  },
  {
   "cell_type": "markdown",
   "metadata": {},
   "source": [
    "#### range( `[start], stop, [step]`)\n",
    "\n",
    "- `start` - Optional. An integer number specifying at which position to start. Default is 0\n",
    "- `stop` - Required. An integer number specifying at which position to end.\u000b",
    "\n",
    "\n",
    "\n",
    "- `step` - Optional. An integer number specifying the incrementation. Default is 1"
   ]
  },
  {
   "cell_type": "markdown",
   "metadata": {},
   "source": [
    "###### Ex. WAP to perform summation and product of first 10 natural numbers"
   ]
  },
  {
   "cell_type": "code",
   "execution_count": null,
   "metadata": {},
   "outputs": [],
   "source": []
  },
  {
   "cell_type": "markdown",
   "metadata": {},
   "source": [
    "###### WAP to take a number as input and print the multiplication table of the number "
   ]
  },
  {
   "cell_type": "code",
   "execution_count": null,
   "metadata": {},
   "outputs": [],
   "source": [
    "3 x 1 = 3\n",
    "3 x 2 = 6\n",
    ".\n",
    ".\n",
    "3 x 10 = 30"
   ]
  },
  {
   "cell_type": "code",
   "execution_count": null,
   "metadata": {},
   "outputs": [],
   "source": []
  },
  {
   "cell_type": "markdown",
   "metadata": {},
   "source": [
    "###### Ex. WAP to calculate total amount credited to the account and total amount debited from account based on following transactions -"
   ]
  },
  {
   "cell_type": "code",
   "execution_count": null,
   "metadata": {},
   "outputs": [],
   "source": [
    "transactions = [2000, -500, 1500, -1200, -100, 3000]"
   ]
  },
  {
   "cell_type": "markdown",
   "metadata": {},
   "source": [
    "<hr><hr>"
   ]
  },
  {
   "cell_type": "markdown",
   "metadata": {},
   "source": [
    "# Strings in Python \n",
    "\n",
    "#### Strings are -\n",
    "- an ordered sequence of characters\n",
    "- enclosed in a pair of single quotes or pair of double quotes\n",
    "- immutable\n"
   ]
  },
  {
   "cell_type": "markdown",
   "metadata": {},
   "source": [
    "#### Empty string"
   ]
  },
  {
   "cell_type": "code",
   "execution_count": null,
   "metadata": {},
   "outputs": [],
   "source": [
    "string = ''\n",
    "\n",
    "string = \"\""
   ]
  },
  {
   "cell_type": "markdown",
   "metadata": {},
   "source": [
    "##### Note - bool() of empty str is always False"
   ]
  },
  {
   "cell_type": "markdown",
   "metadata": {},
   "source": [
    "### Operations on strings\n",
    "\n",
    "- Indexing\n",
    "- Slicing\n",
    "- Concatenation\n",
    "- Repeatition\n",
    "- Membership\n",
    "- Iteration"
   ]
  },
  {
   "cell_type": "markdown",
   "metadata": {},
   "source": [
    "#### Indexing in Strings\n",
    "- Each character in a string has a unique index, starting from 0 for the first character up to n-1 for the last character, where n is the length of the string.\n",
    "\n",
    "- **Positive Indexing** - Positive indexing starts from 0 and goes up to n-1.\n",
    "    - Index 0 corresponds to the first character.\n",
    "    - Index 1 corresponds to the second character, and so on.\n",
    "      \n",
    "- **Negative Indexing** - Negative indexing starts from -1 for the last character and goes up to -n for the first character.\n",
    "    - Index -1 corresponds to the last character.\n",
    "    - Index -2 corresponds to the second last character, and so on.\n",
    "      \n",
    "- **Accessing Substrings** - You can also use slicing to access substrings. The syntax for slicing is `string[start:stop:step]` , where:\n",
    "    - start is the starting index (inclusive).\n",
    "    - stop is the ending index (exclusive).\n",
    "    - step is the step size (optional)."
   ]
  },
  {
   "cell_type": "markdown",
   "metadata": {},
   "source": [
    "#### Examples - "
   ]
  },
  {
   "cell_type": "code",
   "execution_count": null,
   "metadata": {},
   "outputs": [],
   "source": [
    "string = \"I had a great trip to ibizza\""
   ]
  },
  {
   "cell_type": "markdown",
   "metadata": {},
   "source": [
    "###### Extract first element from the string"
   ]
  },
  {
   "cell_type": "code",
   "execution_count": null,
   "metadata": {},
   "outputs": [],
   "source": []
  },
  {
   "cell_type": "markdown",
   "metadata": {},
   "source": [
    "###### Extract 5th element from the string"
   ]
  },
  {
   "cell_type": "code",
   "execution_count": null,
   "metadata": {},
   "outputs": [],
   "source": []
  },
  {
   "cell_type": "markdown",
   "metadata": {},
   "source": [
    "###### Ex. Extract last element from the string"
   ]
  },
  {
   "cell_type": "code",
   "execution_count": null,
   "metadata": {},
   "outputs": [],
   "source": []
  },
  {
   "cell_type": "markdown",
   "metadata": {},
   "source": [
    "###### Ex. Extract first 3 characters from string"
   ]
  },
  {
   "cell_type": "code",
   "execution_count": null,
   "metadata": {},
   "outputs": [],
   "source": []
  },
  {
   "cell_type": "markdown",
   "metadata": {},
   "source": [
    "###### Ex. Extract all characters from index position 3"
   ]
  },
  {
   "cell_type": "code",
   "execution_count": null,
   "metadata": {},
   "outputs": [],
   "source": []
  },
  {
   "cell_type": "markdown",
   "metadata": {},
   "source": [
    "###### Ex. Extract last 4 characters from the string"
   ]
  },
  {
   "cell_type": "code",
   "execution_count": null,
   "metadata": {},
   "outputs": [],
   "source": []
  },
  {
   "cell_type": "markdown",
   "metadata": {},
   "source": [
    "###### Reverse of string"
   ]
  },
  {
   "cell_type": "code",
   "execution_count": null,
   "metadata": {},
   "outputs": [],
   "source": []
  },
  {
   "cell_type": "markdown",
   "metadata": {},
   "source": [
    "#### `Concatenation` - merging two strings into a single object using the + operator."
   ]
  },
  {
   "cell_type": "code",
   "execution_count": null,
   "metadata": {},
   "outputs": [],
   "source": []
  },
  {
   "cell_type": "markdown",
   "metadata": {},
   "source": [
    "#### `Repetition` - The repetition operator * will make multiple copies of that particular object and combines them together. "
   ]
  },
  {
   "cell_type": "code",
   "execution_count": null,
   "metadata": {},
   "outputs": [],
   "source": []
  },
  {
   "cell_type": "markdown",
   "metadata": {},
   "source": [
    "###### Strings are immutable and cannot be modified"
   ]
  },
  {
   "cell_type": "code",
   "execution_count": null,
   "metadata": {},
   "outputs": [],
   "source": []
  },
  {
   "cell_type": "markdown",
   "metadata": {},
   "source": [
    "### Built-in Functions\n",
    "\n",
    "- **len()** - returns length of the string\n",
    "- **min(), max()**  - returns minimum and maximum element from the string\n",
    "- **sorted()** - sorts the characters of the string and returns a list"
   ]
  },
  {
   "cell_type": "code",
   "execution_count": null,
   "metadata": {},
   "outputs": [],
   "source": [
    "string = \"Mississippi\"\n",
    "\n",
    "len(string)"
   ]
  },
  {
   "cell_type": "code",
   "execution_count": null,
   "metadata": {},
   "outputs": [],
   "source": [
    "min(string)"
   ]
  },
  {
   "cell_type": "code",
   "execution_count": null,
   "metadata": {},
   "outputs": [],
   "source": [
    "max(string)"
   ]
  },
  {
   "cell_type": "code",
   "execution_count": null,
   "metadata": {},
   "outputs": [],
   "source": [
    "sorted(string) # returns a list object of characters sorted in ASC order"
   ]
  },
  {
   "attachments": {},
   "cell_type": "markdown",
   "metadata": {},
   "source": [
    "### Strings Methods\n",
    "\n",
    "\n",
    "- **str.index(`obj`)** - returns index of the first occurence of the character\n",
    "- **str.count(`obj`)** - returns count of number of occurences of the charcter\n",
    "\n",
    "- **str.upper()** - returns string of uppercase characters\n",
    "- **str.lower()** - returns string of lowercase characters\n",
    "- **str.title()** - returns string of sentence case charaters\n",
    "\n",
    "- **str.isupper()** - checks if all characters are uppercase\n",
    "- **str.islower()** - checks if all characters are lowercase\n",
    "- **str.isdigit()** - checks if all characters are digits\n",
    "- **str.isalpha()** - checks if all characters are alphabets\n",
    "- **str.isalnum()** - checks if all characters are either alphabets or digits\n",
    "\n",
    "- **str.split(`delimiter`)** - splits the string on the mentioned delimiter and returns a list of obtained parts of the string\n",
    "- **str.replace(`str`, `str`)** - replaces all the mentioned characters with the specified string and returns a new string\n",
    "- **str.strip(`delimiter`)** - removes whitespace characters from start and end of the string (delimiter can also be specified)\n",
    "- **`delimiter`.join**(`sequence`) - it is called on a string object which acts as a delimiter to join all string elements in the sequence passed as an argument to join()\n",
    "\n"
   ]
  },
  {
   "cell_type": "code",
   "execution_count": null,
   "metadata": {},
   "outputs": [],
   "source": []
  },
  {
   "cell_type": "code",
   "execution_count": null,
   "metadata": {},
   "outputs": [],
   "source": []
  },
  {
   "cell_type": "code",
   "execution_count": null,
   "metadata": {},
   "outputs": [],
   "source": []
  },
  {
   "cell_type": "code",
   "execution_count": null,
   "metadata": {},
   "outputs": [],
   "source": []
  },
  {
   "cell_type": "markdown",
   "metadata": {},
   "source": [
    "#### Examples - "
   ]
  },
  {
   "cell_type": "markdown",
   "metadata": {},
   "source": [
    "###### Ex. WAP to convert the given string - \n",
    "\n",
    "<p><strong><span style=\"color: rgb(41, 105, 176);\">string = \"I am in Python class\"</span></strong></p>\n",
    "<p><strong>o/p -</strong> 'ssalc nohtyP ni ma I'</p>\n",
    "<p><strong>o/p -</strong> 'I Am In Python Class'</p>"
   ]
  },
  {
   "cell_type": "code",
   "execution_count": null,
   "metadata": {},
   "outputs": [],
   "source": [
    "string = \"I am in Python class\"\n"
   ]
  },
  {
   "cell_type": "markdown",
   "metadata": {},
   "source": [
    "###### Ex. WAP to replace all vowels in a word with and asterisk."
   ]
  },
  {
   "cell_type": "code",
   "execution_count": null,
   "metadata": {},
   "outputs": [],
   "source": []
  },
  {
   "cell_type": "markdown",
   "metadata": {},
   "source": [
    "###### Ex. WAP to accept numbers from user in comma seperated format. Extract the integers and perform their summation"
   ]
  },
  {
   "cell_type": "code",
   "execution_count": null,
   "metadata": {},
   "outputs": [],
   "source": []
  },
  {
   "cell_type": "markdown",
   "metadata": {},
   "source": [
    "###### Ex. WAP to convert the string value to int"
   ]
  },
  {
   "cell_type": "code",
   "execution_count": null,
   "metadata": {},
   "outputs": [],
   "source": []
  },
  {
   "cell_type": "markdown",
   "metadata": {},
   "source": [
    "###### Ex. WAP to swap the first and last character of a string entered by user "
   ]
  },
  {
   "cell_type": "code",
   "execution_count": null,
   "metadata": {},
   "outputs": [],
   "source": []
  },
  {
   "cell_type": "markdown",
   "metadata": {},
   "source": [
    "<hr><hr>"
   ]
  }
 ],
 "metadata": {
  "kernelspec": {
   "display_name": "Python 3 (ipykernel)",
   "language": "python",
   "name": "python3"
  },
  "language_info": {
   "codemirror_mode": {
    "name": "ipython",
    "version": 3
   },
   "file_extension": ".py",
   "mimetype": "text/x-python",
   "name": "python",
   "nbconvert_exporter": "python",
   "pygments_lexer": "ipython3",
   "version": "3.12.0"
  }
 },
 "nbformat": 4,
 "nbformat_minor": 4
}
