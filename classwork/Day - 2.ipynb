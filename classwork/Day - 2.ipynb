{
 "cells": [
  {
   "cell_type": "markdown",
   "metadata": {},
   "source": [
    "## Sequence objects or Iterables\n",
    "- collection of elements - str, range(), enumerate(), zip(), map(), filter()\n",
    "- Container sequences/Objects  - list, tuple, dict, set\n",
    "- Note -  range(), enumerate(), zip(), map(), filter() - these are generating non-readable output when printed.\n",
    "- Note - Any sequence can be converted to list/tuple\n",
    " \n",
    "#### `Operations on Generic Sequences`\n",
    "    - Membership - in | not in\n",
    "    - Iteration - for-loop`\n",
    "\n",
    "#### `Operations on Ordered/Indexed Sequences`\n",
    "    - Indexing - obj[index_pos]\n",
    "    - Slicing - obj[start : stop]\n",
    "    - Concatenation - `+` operator\n",
    "    - Repeatition - `*` operator\n",
    "\n",
    "#### `Functions on Generic Sequences`\n",
    "     - len() - gives the number of elements in the sequence\n",
    "     - max() - gives the largest element in the sequence\n",
    "     - min() - gives the smallest element in the sequence\n",
    "     - sum() - applicable to numeric sequences, returns the sum of all elements in the sequence\n",
    "     - math.prod() - applicable to numeric sequences, returns the product of all elements in the sequence\n",
    "     - sorted() - sorts the elements in the sequence in ASC order and returns a list object\n",
    "     \n",
    "\n",
    "### Python Sequences and Containers\n",
    "   \n",
    "<table style=\"width: 100%; border-collapse: collapse; border: 1px solid #ccc; text-align: center;\">\n",
    "  <thead>\n",
    "    <tr style=\"background-color: #050A30; color: white;\">\n",
    "      <th style=\"border: 1px solid #ccc; padding: 8px;\">Object</th>\n",
    "      <th style=\"border: 1px solid #ccc; padding: 8px;\">Container Object</th>\n",
    "      <th style=\"border: 1px solid #ccc; padding: 8px;\">Sequence Type</th>\n",
    "      <th style=\"border: 1px solid #ccc; padding: 8px;\">Element Type</th>\n",
    "      <th style=\"border: 1px solid #ccc; padding: 8px;\">Enclosed in</th>\n",
    "      <th style=\"border: 1px solid #ccc; padding: 8px;\">Immutability</th>\n",
    "      <th style=\"border: 1px solid #ccc; padding: 8px;\">Duplicates</th>\n",
    "    </tr>\n",
    "  </thead>\n",
    "  <tbody>\n",
    "    <tr>\n",
    "      <td style=\"border: 1px solid #ccc; padding: 8px;\">str()</td>\n",
    "      <td style=\"border: 1px solid #ccc; padding: 8px;\">No</td>\n",
    "      <td style=\"border: 1px solid #ccc; padding: 8px;\">ordered/indexed</td>\n",
    "      <td style=\"border: 1px solid #ccc; padding: 8px;\">characters</td>\n",
    "      <td style=\"border: 1px solid #ccc; padding: 8px;\">\"\" or ''</td>\n",
    "      <td style=\"border: 1px solid #ccc; padding: 8px;\">Yes</td>\n",
    "      <td style=\"border: 1px solid #ccc; padding: 8px;\">Yes</td>\n",
    "    </tr>\n",
    "    <tr>\n",
    "      <td style=\"border: 1px solid #ccc; padding: 8px;\">tuple()</td>\n",
    "      <td style=\"border: 1px solid #ccc; padding: 8px;\">Yes</td>\n",
    "      <td style=\"border: 1px solid #ccc; padding: 8px;\">ordered/indexed</td>\n",
    "      <td style=\"border: 1px solid #ccc; padding: 8px;\">mixed data (heterogeneous)</td>\n",
    "      <td style=\"border: 1px solid #ccc; padding: 8px;\">()</td>\n",
    "      <td style=\"border: 1px solid #ccc; padding: 8px;\">Yes</td>\n",
    "      <td style=\"border: 1px solid #ccc; padding: 8px;\">Yes</td>\n",
    "    </tr>\n",
    "    <tr>\n",
    "      <td style=\"border: 1px solid #ccc; padding: 8px;\">list()</td>\n",
    "      <td style=\"border: 1px solid #ccc; padding: 8px;\">Yes</td>\n",
    "      <td style=\"border: 1px solid #ccc; padding: 8px;\">ordered/indexed</td>\n",
    "      <td style=\"border: 1px solid #ccc; padding: 8px;\">mixed data (heterogeneous)</td>\n",
    "      <td style=\"border: 1px solid #ccc; padding: 8px;\">[]</td>\n",
    "      <td style=\"border: 1px solid #ccc; padding: 8px;\">No</td>\n",
    "      <td style=\"border: 1px solid #ccc; padding: 8px;\">Yes</td>\n",
    "    </tr>\n",
    "    <tr>\n",
    "      <td style=\"border: 1px solid #ccc; padding: 8px;\">set()</td>\n",
    "      <td style=\"border: 1px solid #ccc; padding: 8px;\">Yes</td>\n",
    "      <td style=\"border: 1px solid #ccc; padding: 8px;\">unordered</td>\n",
    "      <td style=\"border: 1px solid #ccc; padding: 8px;\">heterogeneous (immutable objects)</td>\n",
    "      <td style=\"border: 1px solid #ccc; padding: 8px;\">{}</td>\n",
    "      <td style=\"border: 1px solid #ccc; padding: 8px;\">No</td>\n",
    "      <td style=\"border: 1px solid #ccc; padding: 8px;\">No</td>\n",
    "    </tr>\n",
    "    <tr>\n",
    "      <td style=\"border: 1px solid #ccc; padding: 8px;\">dict()</td>\n",
    "      <td style=\"border: 1px solid #ccc; padding: 8px;\">Yes</td>\n",
    "      <td style=\"border: 1px solid #ccc; padding: 8px;\">unordered</td>\n",
    "      <td style=\"border: 1px solid #ccc; padding: 8px;\">Key - immutable<br>Value - any type</td>\n",
    "      <td style=\"border: 1px solid #ccc; padding: 8px;\">{}</td>\n",
    "      <td style=\"border: 1px solid #ccc; padding: 8px;\">No</td>\n",
    "      <td style=\"border: 1px solid #ccc; padding: 8px;\">Key - No<br>Value - Yes</td>\n",
    "    </tr>\n"
   ]
  },
  {
   "cell_type": "markdown",
   "metadata": {},
   "source": [
    "## Tuples in Python\n",
    "\n",
    "\n",
    "#### Tuples -\n",
    "- are Python containers\n",
    "- are an ordered sequence of mixed data\n",
    "- enclose elements in a pair of round brackets, separated by commas\n",
    "- are immutable\n"
   ]
  },
  {
   "cell_type": "markdown",
   "metadata": {},
   "source": [
    "#### Defining a tuple"
   ]
  },
  {
   "cell_type": "code",
   "execution_count": null,
   "metadata": {},
   "outputs": [],
   "source": []
  },
  {
   "cell_type": "markdown",
   "metadata": {},
   "source": [
    "#### Empty Tuple"
   ]
  },
  {
   "cell_type": "code",
   "execution_count": null,
   "metadata": {},
   "outputs": [],
   "source": []
  },
  {
   "cell_type": "markdown",
   "metadata": {},
   "source": [
    "#### Single value Tuple"
   ]
  },
  {
   "cell_type": "code",
   "execution_count": null,
   "metadata": {},
   "outputs": [],
   "source": []
  },
  {
   "cell_type": "markdown",
   "metadata": {},
   "source": [
    "### Operations on Tuples\n",
    "- Indexing and Slicing\n",
    "- Iteration\n",
    "- Membership\n",
    "- Concatenation\n",
    "- Repetition"
   ]
  },
  {
   "cell_type": "markdown",
   "metadata": {},
   "source": [
    "#### Examples - "
   ]
  },
  {
   "cell_type": "code",
   "execution_count": null,
   "metadata": {},
   "outputs": [],
   "source": [
    "fam = (\"Rosie\", 34, \"Sam\", 36, \"Jonnah\", 15, \"Jessie\", 12)"
   ]
  },
  {
   "cell_type": "markdown",
   "metadata": {},
   "source": [
    "###### Ex. Extract 1st element from tuple - "
   ]
  },
  {
   "cell_type": "code",
   "execution_count": null,
   "metadata": {},
   "outputs": [],
   "source": []
  },
  {
   "cell_type": "markdown",
   "metadata": {},
   "source": [
    "###### Ex. Extract last element from tuple - "
   ]
  },
  {
   "cell_type": "code",
   "execution_count": null,
   "metadata": {},
   "outputs": [],
   "source": []
  },
  {
   "cell_type": "markdown",
   "metadata": {},
   "source": [
    "###### Ex. Extract first 3 elements from tuple - "
   ]
  },
  {
   "cell_type": "code",
   "execution_count": null,
   "metadata": {},
   "outputs": [],
   "source": []
  },
  {
   "cell_type": "markdown",
   "metadata": {},
   "source": [
    "###### Ex. Extract last 2 element from tuple - "
   ]
  },
  {
   "cell_type": "code",
   "execution_count": null,
   "metadata": {},
   "outputs": [],
   "source": []
  },
  {
   "cell_type": "markdown",
   "metadata": {},
   "source": [
    "###### Ex. Extract \"True\" from the given Tuple  "
   ]
  },
  {
   "cell_type": "code",
   "execution_count": null,
   "metadata": {},
   "outputs": [],
   "source": []
  },
  {
   "cell_type": "markdown",
   "metadata": {},
   "source": [
    "###### Ex. WAP to reverse the tuple"
   ]
  },
  {
   "cell_type": "markdown",
   "metadata": {},
   "source": [
    "#### `tup[ start : stop : step]`"
   ]
  },
  {
   "cell_type": "code",
   "execution_count": null,
   "metadata": {},
   "outputs": [],
   "source": []
  },
  {
   "cell_type": "markdown",
   "metadata": {},
   "source": [
    "### Packing/Unpacking of Tuples - \n",
    "\n",
    "- In Python, unpacking of tuples refers to the process of assigning the individual elements of a tuple to multiple variables in a single statement.\n",
    "- This feature allows you to extract values from a tuple and assign them to distinct variables in a convenient and readable way."
   ]
  },
  {
   "cell_type": "code",
   "execution_count": null,
   "metadata": {},
   "outputs": [],
   "source": []
  },
  {
   "cell_type": "markdown",
   "metadata": {},
   "source": [
    "#### Applications - "
   ]
  },
  {
   "cell_type": "markdown",
   "metadata": {},
   "source": [
    "1. Defining multiple variables in a single line"
   ]
  },
  {
   "cell_type": "markdown",
   "metadata": {},
   "source": [
    "2. Assigning multiple values to a single variable"
   ]
  },
  {
   "cell_type": "markdown",
   "metadata": {},
   "source": [
    "###### Ex. Given a tuple ratings containing audience ratings for a training course across various categories, each scored out of 5, write a Python function to calculate the final rating. \n",
    "\n",
    "The final rating should be determined by adding the first value which refers to trainer ratings and the average of the remaining values which refer to platflorm ratings like labs, hardware, duration etc."
   ]
  },
  {
   "cell_type": "code",
   "execution_count": null,
   "metadata": {},
   "outputs": [],
   "source": [
    "ratings = (4.5, 4.9, 3.4, 4, 4.3)"
   ]
  },
  {
   "cell_type": "code",
   "execution_count": null,
   "metadata": {},
   "outputs": [],
   "source": [
    "ratings = ((4.5, 4.9, 3.4, 4, 4.3), (4.7, 4.3, 3.9, 4, 4.3), (4.8, 4.1, 4, 4, 4.3), (4.7, 4.3, 4.4, 4, 3.3))"
   ]
  },
  {
   "cell_type": "markdown",
   "metadata": {},
   "source": [
    "3. Function returning multiple values"
   ]
  },
  {
   "cell_type": "code",
   "execution_count": null,
   "metadata": {},
   "outputs": [],
   "source": []
  },
  {
   "cell_type": "markdown",
   "metadata": {},
   "source": [
    "4. for-loop with multiple variables"
   ]
  },
  {
   "cell_type": "markdown",
   "metadata": {},
   "source": [
    "###### Ex. Each sub-tuple contains defect counts in three categories for a batch of products, with each count representing a different defect type. Calculate and display the total defect percentage for each batch with batch numbers."
   ]
  },
  {
   "cell_type": "code",
   "execution_count": null,
   "metadata": {},
   "outputs": [],
   "source": [
    "# Sample data: each sub-tuple contains defect counts in three categories for a batch of products\n",
    "defect_data = (\n",
    "    (5, 3, 2),  # Batch 1\n",
    "    (1, 4, 0),  # Batch 2\n",
    "    (7, 6, 3),  # Batch 3\n",
    "    (2, 1, 1)   # Batch 4\n",
    ")\n",
    "\n",
    "# Total number of products in each batch\n",
    "total_products_per_batch = 80\n",
    "\n"
   ]
  },
  {
   "cell_type": "markdown",
   "metadata": {},
   "source": [
    "#### enumerate(`seq`, `start = 0`)\n",
    "- The enumerate() function adds a counter to an iterable (such as a list, tuple, or string) and returns it as an enumerate object(sqe object).\n",
    "- Enumerate object - sequence of tuples of size 2; with first element as the counter and second element is the element from iterable.\n",
    "##### Note - enumerate object is not readable when printed. But can be iterated using for-loop or can be converted to a list/tuple"
   ]
  },
  {
   "cell_type": "code",
   "execution_count": null,
   "metadata": {},
   "outputs": [],
   "source": [
    "lst = [\"Jane\", \"Jack\", \"Rosie\", \"Diana\"]"
   ]
  },
  {
   "cell_type": "code",
   "execution_count": null,
   "metadata": {},
   "outputs": [],
   "source": [
    "# example of unpacking of tuples\n"
   ]
  },
  {
   "cell_type": "code",
   "execution_count": null,
   "metadata": {},
   "outputs": [],
   "source": [
    "# Application of for-loop and enumerate in visualisation - annotations"
   ]
  },
  {
   "cell_type": "code",
   "execution_count": null,
   "metadata": {},
   "outputs": [],
   "source": [
    "import matplotlib.pyplot as plt\n",
    "plt.figure(figsize = (6, 2))\n",
    "products = [\"P1\", \"P2\", \"P3\", \"P4\", \"P5\"]\n",
    "sales = [6000, 3000, 4000, 5000, 8000]\n"
   ]
  },
  {
   "cell_type": "markdown",
   "metadata": {},
   "source": [
    "#### Syntax to install any third-party library- "
   ]
  },
  {
   "cell_type": "code",
   "execution_count": null,
   "metadata": {},
   "outputs": [],
   "source": [
    "# in jupyter - \n",
    "!pip install matplotlib"
   ]
  },
  {
   "cell_type": "code",
   "execution_count": null,
   "metadata": {},
   "outputs": [],
   "source": [
    "# int Terminal window\n",
    "pip install matplotlib"
   ]
  },
  {
   "cell_type": "markdown",
   "metadata": {},
   "source": [
    "<hr><hr>"
   ]
  },
  {
   "attachments": {},
   "cell_type": "markdown",
   "metadata": {},
   "source": [
    "## Lists in Python \n",
    "\n",
    "#### Lists -\n",
    "- are Python containers\n",
    "- are an ordered sequence of mixed data\n",
    "- enclose elements in a pair of square brackets, separated by commas\n",
    "- mutable\n",
    "\n",
    "\n",
    "### Operations on Lists\n",
    "- Indexing and Slicing\n",
    "- Iteration\n",
    "- Membership\n",
    "- Concatenation\n",
    "- Repetition\n",
    "\n",
    "### Built-in functions on Lists\n",
    "- **len()** - returns length of the list\n",
    "- **min(), max()**  - returns minimum and maximum element from the list\n",
    "- **sorted()** - sorts the elements of the list and returns a list\n",
    "- **sum()** - applicable to only numeric lists, returns summation of all the elements int the list"
   ]
  },
  {
   "cell_type": "markdown",
   "metadata": {},
   "source": [
    "#### Defining a list "
   ]
  },
  {
   "cell_type": "code",
   "execution_count": null,
   "metadata": {},
   "outputs": [],
   "source": [
    "friends = [ 'Ross', 'Monica', 'Joey', 'Chandler']"
   ]
  },
  {
   "cell_type": "markdown",
   "metadata": {},
   "source": [
    "### Adding/Removing elements in a list"
   ]
  },
  {
   "cell_type": "markdown",
   "metadata": {},
   "source": [
    "**lst.append(`object`)** \n",
    "- appends element to the end of the list"
   ]
  },
  {
   "cell_type": "markdown",
   "metadata": {},
   "source": [
    "###### Ex. Append 'Phoebe' to the end of the list"
   ]
  },
  {
   "cell_type": "code",
   "execution_count": null,
   "metadata": {},
   "outputs": [],
   "source": []
  },
  {
   "cell_type": "markdown",
   "metadata": {},
   "source": [
    "**lst.insert(`index`,`object`)** \n",
    "- inserts element at the mentioned index location"
   ]
  },
  {
   "cell_type": "markdown",
   "metadata": {},
   "source": [
    "###### Ex. Insert 'Rachel' at index position 4"
   ]
  },
  {
   "cell_type": "code",
   "execution_count": null,
   "metadata": {},
   "outputs": [],
   "source": []
  },
  {
   "cell_type": "markdown",
   "metadata": {},
   "source": [
    "**lst.extend(`seq-obj`)** \n",
    "- always take a sequnce as parameter, appends all the elements from sequence to end of the list."
   ]
  },
  {
   "cell_type": "markdown",
   "metadata": {},
   "source": [
    "###### Ex. Extend tuple of new_friends to the end of the friends list"
   ]
  },
  {
   "cell_type": "code",
   "execution_count": null,
   "metadata": {},
   "outputs": [],
   "source": [
    "new_friends = (\"Jack\", \"Jane\", \"Jasmine\", \"Rosie\")"
   ]
  },
  {
   "cell_type": "markdown",
   "metadata": {},
   "source": [
    "**lst.pop()** \n",
    "- deletes the last element from the list"
   ]
  },
  {
   "cell_type": "code",
   "execution_count": null,
   "metadata": {},
   "outputs": [],
   "source": []
  },
  {
   "cell_type": "markdown",
   "metadata": {},
   "source": [
    "**lst.pop(`index`)**\n",
    "- deletes the element at the mentioned `index-value` from the list"
   ]
  },
  {
   "cell_type": "code",
   "execution_count": null,
   "metadata": {},
   "outputs": [],
   "source": []
  },
  {
   "cell_type": "markdown",
   "metadata": {},
   "source": [
    "**lst.remove(`obj`)** \n",
    "- removes the mention `obj` from the list"
   ]
  },
  {
   "cell_type": "code",
   "execution_count": null,
   "metadata": {},
   "outputs": [],
   "source": []
  },
  {
   "cell_type": "markdown",
   "metadata": {},
   "source": [
    "#### Examples - "
   ]
  },
  {
   "cell_type": "markdown",
   "metadata": {},
   "source": [
    "###### Ex. Write a program to combine two lists, one containing product names and the other containing sales figures, to generate a consolidated report."
   ]
  },
  {
   "cell_type": "code",
   "execution_count": null,
   "metadata": {},
   "outputs": [],
   "source": [
    "# Lists containing product names and their corresponding sales figures\n",
    "products = [\"Laptop\", \"Smartphone\", \"Headphones\", \"Keyboard\"]\n",
    "sales = [150, 300, 120, 90]\n"
   ]
  },
  {
   "cell_type": "markdown",
   "metadata": {},
   "source": [
    "**zip(`list1`, `list2`, ...)**\n",
    "- the zip() function is used to combine multiple iterables (such as lists, tuples, or strings) into a single iterable of tuples.\n",
    "- Each tuple contains elements from the input iterables at corresponding positions.\n",
    "- It effectively \"zips\" together the elements from the provided iterables, creating pairs (or n-tuples) of elements."
   ]
  },
  {
   "cell_type": "code",
   "execution_count": null,
   "metadata": {},
   "outputs": [],
   "source": []
  },
  {
   "cell_type": "code",
   "execution_count": null,
   "metadata": {},
   "outputs": [],
   "source": []
  },
  {
   "attachments": {},
   "cell_type": "markdown",
   "metadata": {},
   "source": [
    "###### Ex. Write a program to manage a to-do list. \n",
    "- Accept 3 tasks from the user and add them to the list.\n",
    "- Create a function that adds a new task to the list and displays the updated list.\n",
    "- Create a function that displays all tasks with their respective numbers, allows the user to delete a task by entering its number, and then displays the updated list."
   ]
  },
  {
   "cell_type": "code",
   "execution_count": null,
   "metadata": {},
   "outputs": [],
   "source": [
    "# Create a function that adds a new task to the list and displays the updated list.\n"
   ]
  },
  {
   "cell_type": "code",
   "execution_count": null,
   "metadata": {},
   "outputs": [],
   "source": [
    "# Create a function that displays all tasks with their respective numbers, \n"
   ]
  },
  {
   "cell_type": "code",
   "execution_count": null,
   "metadata": {},
   "outputs": [],
   "source": [
    "# Create a function that allows the user to delete a task by entering its number, and then displays the updated list.\n"
   ]
  },
  {
   "cell_type": "markdown",
   "metadata": {},
   "source": [
    "**enumerate(`iterable`, `start = 0`)**\n",
    "- The enumerate function in Python is a built-in utility that simplifies working with iterable objects (like lists, tuples, strings, etc.) by providing an automatic counter along with the elements of the iterable.\n",
    "- It's commonly used in loops when both the index and the element of an iterable are needed.\n",
    "- Adds Index to Iterables: It returns a tuple containing the index (starting from 0 by default) and the corresponding item from the iterable.\n",
    "- Custom Start Index: You can specify the starting index by passing a second argument."
   ]
  },
  {
   "cell_type": "markdown",
   "metadata": {},
   "source": [
    "###### Ex. Reading and writing tasks to file"
   ]
  },
  {
   "cell_type": "code",
   "execution_count": null,
   "metadata": {},
   "outputs": [],
   "source": []
  },
  {
   "attachments": {},
   "cell_type": "markdown",
   "metadata": {},
   "source": [
    "<hr><br>\n",
    "\n",
    "### Creating a copy of a list \n",
    "#### (Shallow copying and Deep Copying)\n",
    "\n",
    "- Assignment statements create bindings between a target and an object, rather than copying objects.\n",
    "- The `=` operator does not create a new object; it only creates a new variable that shares the reference of the original object.\n",
    "- To work with mutable objects, users may need to create \"real copies\" or \"clones\" of these objects.\n",
    "- Creating copies allows users to modify them without affecting the original object."
   ]
  },
  {
   "cell_type": "markdown",
   "metadata": {},
   "source": [
    "#### Shallow Copy"
   ]
  },
  {
   "cell_type": "code",
   "execution_count": null,
   "metadata": {},
   "outputs": [],
   "source": [
    "lst1 = [2, 8, [\"Jane\", \"Thomas\", \"Jack\"]]\n"
   ]
  },
  {
   "cell_type": "markdown",
   "metadata": {},
   "source": [
    "#### Deep Copy"
   ]
  },
  {
   "cell_type": "code",
   "execution_count": null,
   "metadata": {},
   "outputs": [],
   "source": [
    "import copy\n",
    "lst1 = [2, 8, (\"Jane\", \"Thomas\", \"Jack\")]\n"
   ]
  },
  {
   "cell_type": "markdown",
   "metadata": {},
   "source": [
    "<hr><hr>"
   ]
  },
  {
   "attachments": {},
   "cell_type": "markdown",
   "metadata": {},
   "source": [
    "## Sets in Python\n",
    "\n",
    "#### Sets -\n",
    "- are Python containers\n",
    "- are an unordered sequence of mixed data (immutable objects)\n",
    "- encloses elements in a pair of curly brackets, separated by commas\n",
    "- mutable\n",
    "- do not allow duplicates\n",
    "- allow set operations on data\n",
    "\n",
    "### Operations on Sets\n",
    "- Iteration\n",
    "- Membership\n",
    "- Set Operations\n",
    "    - Union | Intersection | Difference | Symmetric Difference\n",
    "    - Disjoint sets\n",
    "    - Subsets and Supersets\n",
    "\n",
    "### Built-in functions on Sets\n",
    "- **len()** - returns length of the sets\n",
    "- **min(), max()**  - returns minimum and maximum element from the set\n",
    "- **sorted()** - sorts the elements of the set and returns a list\n",
    "- **sum()** - applicable to only numeric sets, returns summation of all the elements int the set"
   ]
  },
  {
   "cell_type": "markdown",
   "metadata": {},
   "source": [
    "#### Creating a set"
   ]
  },
  {
   "cell_type": "code",
   "execution_count": null,
   "metadata": {},
   "outputs": [],
   "source": [
    "s = {10, 20, 30, 40, 50}\n",
    "print(s)"
   ]
  },
  {
   "cell_type": "markdown",
   "metadata": {},
   "source": [
    "### Adding/Removing elements "
   ]
  },
  {
   "cell_type": "markdown",
   "metadata": {},
   "source": [
    "#### set.add(`obj`) \n",
    "- adds a new element to the set"
   ]
  },
  {
   "cell_type": "code",
   "execution_count": null,
   "metadata": {},
   "outputs": [],
   "source": [
    "s.add(\"abcd\")\n",
    "print(s)"
   ]
  },
  {
   "cell_type": "markdown",
   "metadata": {},
   "source": [
    "#### set.update(`seq`) \n",
    "- takes a sequence object as a parameter and adds all the elemnts from the sequence to the set"
   ]
  },
  {
   "cell_type": "code",
   "execution_count": null,
   "metadata": {},
   "outputs": [],
   "source": [
    "s.update([1, 2, 3, 4])\n",
    "print(s)"
   ]
  },
  {
   "cell_type": "markdown",
   "metadata": {},
   "source": [
    "#### pop() \n",
    "- removes a random element from the set"
   ]
  },
  {
   "cell_type": "code",
   "execution_count": null,
   "metadata": {},
   "outputs": [],
   "source": [
    "s.pop()\n",
    "print(s)"
   ]
  },
  {
   "cell_type": "markdown",
   "metadata": {},
   "source": [
    "#### remove(`obj`) \n",
    "- removes a specified elemnt from the set, givevs error if the element is not present in the set"
   ]
  },
  {
   "cell_type": "code",
   "execution_count": null,
   "metadata": {},
   "outputs": [],
   "source": [
    "s.remove(\"abcd\")\n",
    "print(s)"
   ]
  },
  {
   "cell_type": "markdown",
   "metadata": {},
   "source": [
    "#### discard(`obj`) \n",
    "- removes the specified element from the set, it will not give any error if element is not present."
   ]
  },
  {
   "cell_type": "code",
   "execution_count": null,
   "metadata": {},
   "outputs": [],
   "source": [
    "s.remove(\"abcd\")\n",
    "print(s)"
   ]
  },
  {
   "cell_type": "code",
   "execution_count": null,
   "metadata": {},
   "outputs": [],
   "source": [
    "s.discard(\"abcd\")\n",
    "print(s)"
   ]
  },
  {
   "cell_type": "markdown",
   "metadata": {},
   "source": [
    "#### Set Operations - Union | Intersection | Difference | Symmetric Difference"
   ]
  },
  {
   "cell_type": "code",
   "execution_count": null,
   "metadata": {},
   "outputs": [],
   "source": [
    "set1 = {1, 2, 3, 4, 5}\n",
    "set2 = {4, 5, 6, 7, 8}"
   ]
  },
  {
   "cell_type": "code",
   "execution_count": null,
   "metadata": {},
   "outputs": [],
   "source": [
    "set1 | set2 # union\n",
    "set1.union(set2)"
   ]
  },
  {
   "cell_type": "code",
   "execution_count": null,
   "metadata": {},
   "outputs": [],
   "source": [
    "set1 & set2 # intersection\n",
    "set1.intersection(set2)"
   ]
  },
  {
   "cell_type": "code",
   "execution_count": null,
   "metadata": {},
   "outputs": [],
   "source": [
    "set1 ^ set2\n",
    "set1.symmetric_difference(set2)"
   ]
  },
  {
   "cell_type": "code",
   "execution_count": null,
   "metadata": {},
   "outputs": [],
   "source": [
    "set1 - set2\n",
    "set1.difference(set2)"
   ]
  },
  {
   "cell_type": "markdown",
   "metadata": {},
   "source": [
    "#### Disjoint set\n",
    "- if the two sets have no common elements"
   ]
  },
  {
   "cell_type": "code",
   "execution_count": null,
   "metadata": {},
   "outputs": [],
   "source": [
    "set1 = {1, 2, 3, 4, 5}\n",
    "set2 = {6, 7, 8, 9, 10}\n",
    "\n",
    "set1.isdisjoint(set2)"
   ]
  },
  {
   "cell_type": "markdown",
   "metadata": {},
   "source": [
    "#### Subset | Superset\n",
    "\n",
    "- If all elemenets of set1 are present in set2 then, \n",
    "    - set1 is subset of set2\n",
    "    - set2 will be superset of set1"
   ]
  },
  {
   "cell_type": "code",
   "execution_count": null,
   "metadata": {},
   "outputs": [],
   "source": [
    "set1 = {1, 2, 3, 4, 5}\n",
    "set2 = {1, 2, 3, 4, 5, 6, 7, 8, 9, 10}\n",
    "\n",
    "set1.issubset(set2)"
   ]
  },
  {
   "cell_type": "code",
   "execution_count": null,
   "metadata": {},
   "outputs": [],
   "source": [
    "set2.issuperset(set1)"
   ]
  },
  {
   "cell_type": "markdown",
   "metadata": {},
   "source": [
    "#### Examples - "
   ]
  },
  {
   "cell_type": "markdown",
   "metadata": {},
   "source": [
    "###### Set of members drinking tea and coffee"
   ]
  },
  {
   "cell_type": "code",
   "execution_count": null,
   "metadata": {},
   "outputs": [],
   "source": [
    "drinks_coffee = {\"Jane\", \"Jack\", \"Sam\", \"George\", \"Dori\"}\n",
    "\n",
    "drinks_tea = {\"Jack\", \"Frank\", \"Cody\", \"Dori\", \"Bill\"}"
   ]
  },
  {
   "cell_type": "markdown",
   "metadata": {},
   "source": [
    "###### Ex. Are there any members who drink tea and coffee both? (Yes/No). If `Yes` then, display their names."
   ]
  },
  {
   "cell_type": "code",
   "execution_count": null,
   "metadata": {},
   "outputs": [],
   "source": []
  },
  {
   "cell_type": "markdown",
   "metadata": {},
   "source": [
    "###### Ex. Does all the members who drink tea also drink coffee? (Yes/No). If `No` then, display the names of members who drink only tea but not coffee."
   ]
  },
  {
   "cell_type": "code",
   "execution_count": null,
   "metadata": {},
   "outputs": [],
   "source": []
  },
  {
   "cell_type": "markdown",
   "metadata": {},
   "source": [
    "###### Ex. WAP to check if password entered by user is satisfying following condions or not -\n",
    "1. length of password must be >= 8\n",
    "2. username and password must not be same\n",
    "3. Password must contain atleast 1 digit, 1 capital alphabet, 1 small alphabet and 1 special character like \"!@#$%^&*\"\n"
   ]
  },
  {
   "cell_type": "code",
   "execution_count": null,
   "metadata": {},
   "outputs": [],
   "source": []
  },
  {
   "cell_type": "markdown",
   "metadata": {},
   "source": [
    "**all(`seq`)** \n",
    "- The all() function returns True if all elements in the iterable are true (or if the iterable is empty). Otherwise, it returns False.\n",
    "  \n",
    "**any(`seq`)** \n",
    "- The any() function returns True if at least one element in the iterable is true. If all elements are false (or if the iterable is empty), it returns False."
   ]
  },
  {
   "cell_type": "markdown",
   "metadata": {},
   "source": [
    "<hr><hr>"
   ]
  },
  {
   "cell_type": "markdown",
   "metadata": {},
   "source": [
    "## Dictionary in Python\n",
    "\n",
    "#### Dictionaries are -\n",
    "- are Python containers \n",
    "- are an unordered sequence of mixed data - does not follow indexing. But stores elements in the order as entered.\n",
    "- Encloses elements in a pair of curly brackets\n",
    "- elements are stored in the form of {key : value} pairs separated by commas\n",
    "- keys are always unique and immutable\n",
    "- values need not be unique and can be of any type\n",
    "- mutable"
   ]
  },
  {
   "cell_type": "markdown",
   "metadata": {},
   "source": [
    "###### Ex. Create a dictionary consisting of country names and their currencies"
   ]
  },
  {
   "cell_type": "code",
   "execution_count": null,
   "metadata": {},
   "outputs": [],
   "source": [
    "country_currency = { \"United States\": \"USD\", \"United Kingdom\": \"GBP\", \"India\": \"INR\", \"Australia\": \"AUD\"}"
   ]
  },
  {
   "cell_type": "markdown",
   "metadata": {},
   "source": [
    "###### Ex. Print currency for \"India\""
   ]
  },
  {
   "cell_type": "code",
   "execution_count": null,
   "metadata": {},
   "outputs": [],
   "source": []
  },
  {
   "cell_type": "markdown",
   "metadata": {},
   "source": [
    "**dict.get(`keyname`, `value`)**\n",
    "- keyname -\tRequired. The keyname of the item you want to return the value from <br>\n",
    "- value -\tOptional. A value to return if the specified key does not exist. Default value None"
   ]
  },
  {
   "cell_type": "code",
   "execution_count": null,
   "metadata": {},
   "outputs": [],
   "source": []
  },
  {
   "cell_type": "markdown",
   "metadata": {},
   "source": [
    "#### Examples - "
   ]
  },
  {
   "cell_type": "markdown",
   "metadata": {},
   "source": [
    "###### Ex. WAP to create a dictionary combining the following two lists where name is key and marks as value"
   ]
  },
  {
   "cell_type": "code",
   "execution_count": null,
   "metadata": {},
   "outputs": [],
   "source": [
    "names = ['Jane', 'Rosie', 'Mary', 'Sam', 'George']\n",
    "salary = [70000, 90000, 40000, 55000, 76000]\n"
   ]
  },
  {
   "cell_type": "code",
   "execution_count": null,
   "metadata": {},
   "outputs": [],
   "source": [
    "names = ['Jane', 'Rosie', 'Mary', 'Sam', 'George']\n"
   ]
  },
  {
   "cell_type": "markdown",
   "metadata": {},
   "source": [
    "###### Ex. Develop a Python program to manage the inventory of a retail store using a dictionary.\n",
    "- Initialize an inventory dictionary with product names as keys and quantities as values.\n",
    "- Create a function to add a new product to the inventory:\n",
    "    - If the product already exists, update its quantity.\n",
    "    - If the product does not exist, add it to the inventory.\n",
    "    - Display a message indicating the addition of the product and its quantity.\n",
    "- Create a function to display the current inventory:\n",
    "    - Iterate through the dictionary and print each product's name and quantity.\n",
    "\n",
    "- Create a function to remove a product from the inventory:\n",
    "    - If the product exists, remove it from the inventory.\n",
    "    - Display a message indicating the removal of the product.\n",
    "    - If the product does not exist, display a message indicating its absence."
   ]
  },
  {
   "cell_type": "code",
   "execution_count": null,
   "metadata": {},
   "outputs": [],
   "source": [
    "# Initialize an inventory dictionary with product names as keys and quantities as values.\n",
    "inventory = {\"Laptop\": 15, \"Smartphone\": 25, \"Tablet\": 10, \"Headphones\": 30, \"Charger\": 50}\n",
    "\n",
    "\n"
   ]
  },
  {
   "cell_type": "markdown",
   "metadata": {},
   "source": [
    "<hr><hr>"
   ]
  },
  {
   "attachments": {},
   "cell_type": "markdown",
   "metadata": {},
   "source": [
    "## Comprehensions in Python\n",
    "\n",
    "- A **`comprehension`** is a concise and readable way to create and manipulate collections such as lists, dictionaries, and sets.\n",
    "- Comprehensions provide a compact syntax to generate new sequences by applying an expression to each item in an existing sequence or iterable.\n",
    "- Syntax - `[<expression> for <var> in <sequence> if <condition>]`\n",
    "- The steps to work on a comprehension:\n",
    "    1. Identify the iterable or sequence.\n",
    "    2. Determine any conditions or filters.\n",
    "    3. Define the expression or operation to apply.\n",
    "    4. Specify the target mutable data structure.\n",
    "- Note - Do not work with while loop, break and continue statements"
   ]
  },
  {
   "cell_type": "markdown",
   "metadata": {},
   "source": [
    "###### Ex. WAP to generate a list of squares of number in range of 1-10"
   ]
  },
  {
   "cell_type": "code",
   "execution_count": null,
   "metadata": {},
   "outputs": [],
   "source": []
  },
  {
   "cell_type": "markdown",
   "metadata": {},
   "source": [
    "###### Ex. WAP to create a list of squares of even number in range of 1-10"
   ]
  },
  {
   "cell_type": "code",
   "execution_count": null,
   "metadata": {},
   "outputs": [],
   "source": []
  },
  {
   "cell_type": "markdown",
   "metadata": {},
   "source": [
    "###### Ex. WAP to create a dict of number from 1-10 as keys and their squares as values\n"
   ]
  },
  {
   "cell_type": "code",
   "execution_count": null,
   "metadata": {},
   "outputs": [],
   "source": []
  },
  {
   "cell_type": "markdown",
   "metadata": {},
   "source": [
    "###### Ex. WAP to create a dict of number from 1-5 as keys and their type as even/odd as value"
   ]
  },
  {
   "cell_type": "code",
   "execution_count": null,
   "metadata": {},
   "outputs": [],
   "source": []
  },
  {
   "cell_type": "markdown",
   "metadata": {},
   "source": [
    "#### Examples - "
   ]
  },
  {
   "cell_type": "markdown",
   "metadata": {},
   "source": [
    "###### Ex. WAP to add 7% service tax to all the values in the \"sales\" list"
   ]
  },
  {
   "cell_type": "code",
   "execution_count": null,
   "metadata": {},
   "outputs": [],
   "source": [
    "sales = [290, 500, 800, 650]"
   ]
  },
  {
   "cell_type": "markdown",
   "metadata": {},
   "source": [
    "###### Ex. WAP to sum all the values in the \"sales\" tuple"
   ]
  },
  {
   "cell_type": "code",
   "execution_count": null,
   "metadata": {},
   "outputs": [],
   "source": [
    "sales = (\"$290\", \"$500\", \"$800\", \"$650\")"
   ]
  },
  {
   "cell_type": "markdown",
   "metadata": {},
   "source": [
    "###### Ex. Data Cleaning - Normalize product names in a dataset."
   ]
  },
  {
   "cell_type": "code",
   "execution_count": null,
   "metadata": {},
   "outputs": [],
   "source": [
    "# List of product names with inconsistent capitalization\n",
    "products = [\"  Apple  \", \"banana\", \"CHERRY \", \"Date\"]\n"
   ]
  },
  {
   "cell_type": "markdown",
   "metadata": {},
   "source": [
    "###### Ex. Identify products with low stock levels."
   ]
  },
  {
   "cell_type": "code",
   "execution_count": null,
   "metadata": {},
   "outputs": [],
   "source": [
    "inventory = {\"apple\": 50, \"banana\": 10, \"cherry\": 75, \"date\": 5}\n"
   ]
  },
  {
   "cell_type": "code",
   "execution_count": null,
   "metadata": {},
   "outputs": [],
   "source": [
    "# Extract list of product names"
   ]
  },
  {
   "cell_type": "markdown",
   "metadata": {},
   "source": [
    "###### Ex. Calculate the average performance score of employees."
   ]
  },
  {
   "cell_type": "code",
   "execution_count": null,
   "metadata": {},
   "outputs": [],
   "source": [
    "performance = { \"John\": [85, 90, 78], \"Jane\": [92, 88, 95], \"Alice\": [80, 85, 87]}\n"
   ]
  },
  {
   "cell_type": "markdown",
   "metadata": {},
   "source": [
    "###### Ex. Calculate the percentage change in stock prices.\n"
   ]
  },
  {
   "cell_type": "code",
   "execution_count": null,
   "metadata": {},
   "outputs": [],
   "source": [
    "# List of stock prices over time - ((new-old) / old) * 100\n",
    "stock_prices = [95, 105, 118, 112, 120]\n"
   ]
  },
  {
   "cell_type": "markdown",
   "metadata": {},
   "source": [
    "<hr><hr>"
   ]
  }
 ],
 "metadata": {
  "kernelspec": {
   "display_name": "Python 3 (ipykernel)",
   "language": "python",
   "name": "python3"
  },
  "language_info": {
   "codemirror_mode": {
    "name": "ipython",
    "version": 3
   },
   "file_extension": ".py",
   "mimetype": "text/x-python",
   "name": "python",
   "nbconvert_exporter": "python",
   "pygments_lexer": "ipython3",
   "version": "3.12.0"
  }
 },
 "nbformat": 4,
 "nbformat_minor": 4
}
