{
 "cells": [
  {
   "cell_type": "markdown",
   "metadata": {},
   "source": [
    "## Regular Expressions\n",
    "\n",
    "Regular expressions are used for matching text patterns for searching, replacing and parsing text \n",
    "with complex patterns of characters.\n",
    "\n",
    "Regexes are used for four main purposes - \n",
    "- To validate if a text meets some criteria; Ex. a zip code with 6 numeric digits \n",
    "- Search substrings. Ex. finding texts that ends with abc and does not contain any digits \n",
    "- Search & replace everywhere the match is found within a string; Ex. search \"fixed deposit\" and replace with \"term deposit\" \n",
    "- Split a string at each place the regex matches; Ex. split everywhere a @ is encountered"
   ]
  },
  {
   "cell_type": "markdown",
   "metadata": {},
   "source": [
    "#### Raw python string\n",
    "\n",
    "It is recommended that you use raw strings instead of regular Python strings. Raw strings begin with a prefix, r, placed before the quotes"
   ]
  },
  {
   "cell_type": "code",
   "execution_count": 1,
   "metadata": {},
   "outputs": [
    {
     "name": "stdout",
     "output_type": "stream",
     "text": [
      "ABC \n",
      " PQR\n"
     ]
    }
   ],
   "source": [
    "print(\"ABC \\n PQR\")"
   ]
  },
  {
   "cell_type": "code",
   "execution_count": 2,
   "metadata": {},
   "outputs": [
    {
     "name": "stdout",
     "output_type": "stream",
     "text": [
      "ABC \\n PQR\n"
     ]
    }
   ],
   "source": [
    "print(r\"ABC \\n PQR\")"
   ]
  },
  {
   "cell_type": "code",
   "execution_count": null,
   "metadata": {},
   "outputs": [],
   "source": [
    "open(r\"C:\\users\\newfolder\\file.txt\")"
   ]
  },
  {
   "cell_type": "markdown",
   "metadata": {},
   "source": [
    "#### Importing re module"
   ]
  },
  {
   "cell_type": "code",
   "execution_count": 3,
   "metadata": {},
   "outputs": [],
   "source": [
    "import re"
   ]
  },
  {
   "cell_type": "markdown",
   "metadata": {},
   "source": [
    "#### Functions in re Module\n",
    "The \"re\" module offers functionalities that allow us to match/search/replace a string \n",
    "\n",
    "- `re.match()` - The match only if it occurs at the beginning of the string \n",
    "- `re.search()` - First occurrence of the match if there is a match anywhere in the string  \n",
    "- `re.findall()` - Returns a list containing all matches in the string \n",
    "- `re.split()` - Returns a list where the string has been split at each match \n",
    "- `re.sub()` - Replaces one or many matches with a string \n",
    "- `re.finditer()` - Returns a collectable iterator yielding all non-overlapping matches "
   ]
  },
  {
   "cell_type": "code",
   "execution_count": 23,
   "metadata": {},
   "outputs": [
    {
     "data": {
      "text/plain": [
       "<re.Match object; span=(0, 5), match='India'>"
      ]
     },
     "execution_count": 23,
     "metadata": {},
     "output_type": "execute_result"
    }
   ],
   "source": [
    "text = \"India celebrates its independence day on 15th August\"\n",
    "re.match(r\"[A-z]+\\b\", text)  # returns a match object"
   ]
  },
  {
   "cell_type": "code",
   "execution_count": 18,
   "metadata": {},
   "outputs": [
    {
     "data": {
      "text/plain": [
       "<re.Match object; span=(41, 43), match='15'>"
      ]
     },
     "execution_count": 18,
     "metadata": {},
     "output_type": "execute_result"
    }
   ],
   "source": [
    "text = \"India celebrates its independence day on 15th August\"\n",
    "re.search(r\"[0-9]+\", text)  # returns a match object"
   ]
  },
  {
   "cell_type": "markdown",
   "metadata": {},
   "source": [
    "The **Match object** in Python's `re` module provides several useful methods to extract information about the match. It contains details about the match, such as the matched string, its position, and captured groups.\n",
    "\n",
    "<table style=\"width: 60%; border-collapse: collapse; border: 1px solid #ccc; text-align: left; margin-left: 0;\">\n",
    "  <thead>\n",
    "    <tr style=\"background-color: #050A30; color: white;\">\n",
    "    <th>Method</th>\n",
    "    <th>Description</th>\n",
    "  </tr>\n",
    "  </thead>\n",
    "  <tr>\n",
    "    <td><b>.group([group])</b></td>\n",
    "    <td>Returns the matched string or a specific group if specified.</td>\n",
    "  </tr>\n",
    "  <tr>\n",
    "    <td><b>.groups()</b></td>\n",
    "    <td>Returns a tuple of all captured groups.</td>\n",
    "  </tr>\n",
    "  <tr>\n",
    "    <td><b>.start([group])</b></td>\n",
    "    <td>Returns the start index of the match or a group.</td>\n",
    "  </tr>\n",
    "  <tr>\n",
    "    <td><b>.end([group])</b></td>\n",
    "    <td>Returns the end index of the match or a group.</td>\n",
    "  </tr>\n",
    "  <tr>\n",
    "    <td><b>.span([group])</b></td>\n",
    "    <td>Returns a tuple `(start, end)` of the match or a group.</td>\n",
    "  </tr>\n",
    "  <tr>\n",
    "    <td><b>.re</b></td>\n",
    "    <td>Returns the regular expression pattern object.</td>\n",
    "  </tr>\n",
    "  <tr>\n",
    "    <td><b>.string</b></td>\n",
    "    <td>Returns the original string searched.</td>\n",
    "  </tr>\n",
    "  <tr>\n",
    "    <td><b>.lastindex</b></td>\n",
    "    <td>Returns the last captured group’s index.</td>\n",
    "  </tr>\n",
    "  <tr>\n",
    "    <td><b>.lastgroup</b></td>\n",
    "    <td>Returns the last captured group’s name if named groups are used.</td>\n",
    "  </tr>\n",
    "</table>"
   ]
  },
  {
   "cell_type": "code",
   "execution_count": 20,
   "metadata": {},
   "outputs": [
    {
     "name": "stdout",
     "output_type": "stream",
     "text": [
      "Matched Text: 15\n",
      "Start Position: 41\n",
      "End Position: 43\n",
      "Span: (41, 43)\n"
     ]
    }
   ],
   "source": [
    "# Example - \n",
    "\n",
    "import re\n",
    "\n",
    "text = \"India celebrates its independence day on 15th August and Republic day on 26th January\"\n",
    "match = re.search(r\"[0-9]+\", text)  # returns a match object\n",
    "\n",
    "if match:\n",
    "    print(\"Matched Text:\", match.group())        \n",
    "    print(\"Start Position:\", match.start())     \n",
    "    print(\"End Position:\", match.end())         \n",
    "    print(\"Span:\", match.span())                \n",
    "else:\n",
    "    print(\"No match found.\")"
   ]
  },
  {
   "cell_type": "markdown",
   "metadata": {},
   "source": [
    "**Basic Characters**\n",
    "- `^` - Matches the expression to its right at the start of a string. It matches every such \n",
    "instance before each line break in the string \n",
    "- `$` - Matches the expression to its left at the end of a string. It matches every such \n",
    "instance before each line break in the string \n",
    "- `p|q` - Matches expression p or q \n",
    "\n",
    "**Character Classes**\n",
    "\n",
    "- `\\w` - Matches alphanumeric characters: a-z, A-Z, 0-9 and _\n",
    "- `\\W` - Matches non-alphanumeric characters. Ignores a-z, A-Z, 0-9 and _\n",
    "- `\\d` - Matches digits: 0-9\n",
    "- `\\D` - Matches any non-digits \n",
    "- `\\s` - Matches whitespace characters, which include the \\t, \\n, \\r, and space characters \n",
    "- `\\S` - Matches non-whitespace characters \n",
    "- `\\A` - Matches the expression to its right at the absolute start of a string (in single or multi-line mode) \n",
    "- `\\t` - Matches tab character\n",
    "- `\\Z` - Matches the expression to its left at the absolute end of a string (in single or multi-line mode) \n",
    "- `\\n` - Matches a newline character \n",
    "- `\\b` - Matches the word boundary at the start and end of a word \n",
    "- `\\B` - Matches where \\b does not, that is, non-word boundary\n",
    "\n",
    "**Groups and Sets**\n",
    "\n",
    "- `[abc]` - Matches either a, b, or c. It does not match abc\n",
    "- `[a\\-z]` - Matches a, -, or z. It matches - because \\ escapes it \n",
    "- `[^abc]` - Adding ^ excludes any character in the set. Here, it matches characters that are  NOT a, b or c \n",
    "- `()` Matches the expression inside the parentheses and groups it\n",
    "- `[a-zl` - Matches any alphabet from a to z \n",
    "- `[a-z0-9]` - Matches characters from a to z and O to 9 \n",
    "- `[(+*)]` - Special characters become literal inside a set, so this matches ( + * and ) \n",
    "- `(?P=name)` - Matches the expression matched by an earlier group named \"name\"\n",
    "\n",
    "**Quantifiers**\n",
    "\n",
    "- `.` - Matches any character except newline \n",
    "- `?` - Matches the expression to its left O or 1 times \n",
    "- `{n}` - Matches the expression to its left n times \n",
    "- `(,m)` - Matches the expression to its left up to m times\n",
    "- `*` - Matches the expression to its left O or more times \n",
    "- `+` - Matches the expression to its left 1 or more times \n",
    "- `{n,m}` - Matches the expression to its left n to m times \n",
    "- `{n, }` - Matches the expression to its left n or more times "
   ]
  },
  {
   "cell_type": "markdown",
   "metadata": {},
   "source": [
    "#### Examples - "
   ]
  },
  {
   "cell_type": "markdown",
   "metadata": {},
   "source": [
    "###### Ex. Extract all digits from the text"
   ]
  },
  {
   "cell_type": "code",
   "execution_count": 24,
   "metadata": {},
   "outputs": [
    {
     "data": {
      "text/plain": [
       "['4', '5', '6', '5', '6', '4']"
      ]
     },
     "execution_count": 24,
     "metadata": {},
     "output_type": "execute_result"
    }
   ],
   "source": [
    "text = \"The stock price was 456 yesterday. Today, it rose to 564\"\n",
    "re.findall(r\"\\d\", text)"
   ]
  },
  {
   "cell_type": "markdown",
   "metadata": {},
   "source": [
    "###### Ex. Extract all numbers from the text"
   ]
  },
  {
   "cell_type": "code",
   "execution_count": 25,
   "metadata": {},
   "outputs": [
    {
     "data": {
      "text/plain": [
       "['456', '564']"
      ]
     },
     "execution_count": 25,
     "metadata": {},
     "output_type": "execute_result"
    }
   ],
   "source": [
    "text = \"The stock price was 456 yesterday. Today, it rose to 564\"\n",
    "re.findall(r\"\\d+\", text)"
   ]
  },
  {
   "cell_type": "markdown",
   "metadata": {},
   "source": [
    "###### Ex. Retrive the dividend from the text"
   ]
  },
  {
   "cell_type": "code",
   "execution_count": 27,
   "metadata": {},
   "outputs": [
    {
     "data": {
      "text/plain": [
       "['17%']"
      ]
     },
     "execution_count": 27,
     "metadata": {},
     "output_type": "execute_result"
    }
   ],
   "source": [
    "text = \"On 25th March, the company declared 17% dividend.\"\n",
    "re.findall(r\"\\d+%\", text)"
   ]
  },
  {
   "cell_type": "markdown",
   "metadata": {},
   "source": [
    "###### Ex. Retrieve all uppercase characters"
   ]
  },
  {
   "cell_type": "code",
   "execution_count": 28,
   "metadata": {},
   "outputs": [
    {
     "data": {
      "text/plain": [
       "['S', 'A', 'A', 'P', 'L', 'G', 'O', 'O', 'G', 'L', 'B', 'M', 'W']"
      ]
     },
     "execution_count": 28,
     "metadata": {},
     "output_type": "execute_result"
    }
   ],
   "source": [
    "text = \"Stocks like AAPL GOOGL BMW are the preferred ones\"\n",
    "re.findall(r\"[A-Z]\", text)"
   ]
  },
  {
   "cell_type": "markdown",
   "metadata": {},
   "source": [
    "###### Ex. Retrive all stock names"
   ]
  },
  {
   "cell_type": "code",
   "execution_count": 33,
   "metadata": {},
   "outputs": [
    {
     "data": {
      "text/plain": [
       "['AAPL', 'GOOGL', 'BMW', 'X']"
      ]
     },
     "execution_count": 33,
     "metadata": {},
     "output_type": "execute_result"
    }
   ],
   "source": [
    "text = \"Stocks like AAPL GOOGL BMW X are the preferred ones\"\n",
    "re.findall(r\"[A-Z]+\\b\", text)"
   ]
  },
  {
   "cell_type": "code",
   "execution_count": 34,
   "metadata": {},
   "outputs": [
    {
     "data": {
      "text/plain": [
       "['AAPL', 'GOOGL', 'BMW']"
      ]
     },
     "execution_count": 34,
     "metadata": {},
     "output_type": "execute_result"
    }
   ],
   "source": [
    "text = \"Stocks like AAPL GOOGL BMW X are the preferred ones\"\n",
    "re.findall(r\"[A-Z]{2,}\", text)"
   ]
  },
  {
   "cell_type": "markdown",
   "metadata": {},
   "source": [
    "###### Ex. Retrieve the phone numbers with country code only "
   ]
  },
  {
   "cell_type": "code",
   "execution_count": 35,
   "metadata": {},
   "outputs": [
    {
     "data": {
      "text/plain": [
       "['65-11223344', '65-91919191']"
      ]
     },
     "execution_count": 35,
     "metadata": {},
     "output_type": "execute_result"
    }
   ],
   "source": [
    "text = \"My number is 65-11223344 and 65-91919191. My other number is 44332211\"\n",
    "re.findall(r\"\\d+-\\d+\", text)"
   ]
  },
  {
   "cell_type": "markdown",
   "metadata": {},
   "source": [
    "###### Ex. Retrieve the phone numbers with or without country code"
   ]
  },
  {
   "cell_type": "code",
   "execution_count": 38,
   "metadata": {},
   "outputs": [
    {
     "data": {
      "text/plain": [
       "['65-11223344', '65-91919191', '44332211']"
      ]
     },
     "execution_count": 38,
     "metadata": {},
     "output_type": "execute_result"
    }
   ],
   "source": [
    "text = \"My number is 65-11223344 and 65-91919191. My other number is 44332211\"\n",
    "re.findall(r\"\\d+-\\d+|\\d+\", text)"
   ]
  },
  {
   "cell_type": "markdown",
   "metadata": {},
   "source": [
    "###### Ex. Retrieve the phone numbers without country code"
   ]
  },
  {
   "cell_type": "code",
   "execution_count": 52,
   "metadata": {},
   "outputs": [
    {
     "data": {
      "text/plain": [
       "[' 44332211']"
      ]
     },
     "execution_count": 52,
     "metadata": {},
     "output_type": "execute_result"
    }
   ],
   "source": [
    "text = \"My number is 65-11223344 and 65-91919191. My other number is 44332211\"\n",
    "re.findall(r\"[^-\\d+]\\d{3,}\", text)"
   ]
  },
  {
   "cell_type": "markdown",
   "metadata": {},
   "source": [
    "###### Ex. Retrieve the zip codes with 2 alphabets in the beginning "
   ]
  },
  {
   "cell_type": "code",
   "execution_count": 54,
   "metadata": {},
   "outputs": [
    {
     "data": {
      "text/plain": [
       "['AB4567', 'TX23A3', 'NY1210']"
      ]
     },
     "execution_count": 54,
     "metadata": {},
     "output_type": "execute_result"
    }
   ],
   "source": [
    "text = \"The zipcodes are AB4567, TX23A3, 310120, NY1210, 734001 \"\n",
    "re.findall(r\"[A-Z]{2}\\w+\", text)"
   ]
  },
  {
   "cell_type": "markdown",
   "metadata": {},
   "source": [
    "###### Ex. Replace values as given in the dict"
   ]
  },
  {
   "cell_type": "code",
   "execution_count": 55,
   "metadata": {},
   "outputs": [
    {
     "data": {
      "text/plain": [
       "'Stocks like * * * are the preferred ones'"
      ]
     },
     "execution_count": 55,
     "metadata": {},
     "output_type": "execute_result"
    }
   ],
   "source": [
    "text = \"Stocks like AAPL GOOGL BMW are the preferred ones\"\n",
    "repl_dict = {\"AAPL\": \"APPLE\", \"GOOGL\": \"GOOGLE\"}\n",
    "re.sub(r\"[A-Z]+\\b\", \"*\", text)"
   ]
  },
  {
   "cell_type": "code",
   "execution_count": 63,
   "metadata": {},
   "outputs": [
    {
     "data": {
      "text/plain": [
       "'Stocks like APPLE GOOGLE BMW are the preferred ones'"
      ]
     },
     "execution_count": 63,
     "metadata": {},
     "output_type": "execute_result"
    }
   ],
   "source": [
    "fn = lambda m_obj : repl_dict.get(m_obj.group(), m_obj.group())\n",
    "re.sub(r\"[A-Z]+\\b\", fn, text)"
   ]
  },
  {
   "cell_type": "code",
   "execution_count": 59,
   "metadata": {},
   "outputs": [
    {
     "data": {
      "text/plain": [
       "'APPLE'"
      ]
     },
     "execution_count": 59,
     "metadata": {},
     "output_type": "execute_result"
    }
   ],
   "source": [
    "m_obj = re.search(r\"[A-Z]+\\b\", text)\n",
    "repl_dict[m_obj.group()]"
   ]
  },
  {
   "cell_type": "code",
   "execution_count": 56,
   "metadata": {},
   "outputs": [
    {
     "name": "stdout",
     "output_type": "stream",
     "text": [
      "Help on function sub in module re:\n",
      "\n",
      "sub(pattern, repl, string, count=0, flags=0)\n",
      "    Return the string obtained by replacing the leftmost\n",
      "    non-overlapping occurrences of the pattern in string by the\n",
      "    replacement repl.  repl can be either a string or a callable;\n",
      "    if a string, backslash escapes in it are processed.  If it is\n",
      "    a callable, it's passed the Match object and must return\n",
      "    a replacement string to be used.\n",
      "\n"
     ]
    }
   ],
   "source": [
    "help(re.sub)"
   ]
  },
  {
   "cell_type": "markdown",
   "metadata": {},
   "source": [
    "<hr><hr>"
   ]
  }
 ],
 "metadata": {
  "kernelspec": {
   "display_name": "Python 3 (ipykernel)",
   "language": "python",
   "name": "python3"
  },
  "language_info": {
   "codemirror_mode": {
    "name": "ipython",
    "version": 3
   },
   "file_extension": ".py",
   "mimetype": "text/x-python",
   "name": "python",
   "nbconvert_exporter": "python",
   "pygments_lexer": "ipython3",
   "version": "3.12.0"
  }
 },
 "nbformat": 4,
 "nbformat_minor": 4
}
