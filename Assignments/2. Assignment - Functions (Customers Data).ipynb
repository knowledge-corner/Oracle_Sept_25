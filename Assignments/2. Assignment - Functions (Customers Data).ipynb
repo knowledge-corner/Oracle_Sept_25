{
 "cells": [
  {
   "cell_type": "markdown",
   "metadata": {},
   "source": [
    "## Assignment - Customers Data\n",
    "\n",
    "**Problem statement -** Under a survey scheme, a Supermart has collected data of all its customers. Based on age and profession supermarket has decided to give special discounts to customers who are taking care of citizens during the pandemic and provide home delivery facilities to customers above 60yrs of age.\n",
    "\n",
    "Data is collected in file \"customers.txt\". Read the data from the file and identify the names of customers who belong to special services and are senior citizens. Follow the below-mentioned steps to solve the problem statement."
   ]
  },
  {
   "cell_type": "markdown",
   "metadata": {},
   "source": [
    "##### Read data from \"cutomers.txt\" in a list"
   ]
  },
  {
   "cell_type": "code",
   "execution_count": 1,
   "metadata": {},
   "outputs": [],
   "source": [
    "file = open(\"customers.txt\")\n",
    "data = file.read()\n",
    "file.close()"
   ]
  },
  {
   "cell_type": "markdown",
   "metadata": {},
   "source": [
    "##### Clean the data by storing the information in the form of dictionary "
   ]
  },
  {
   "cell_type": "code",
   "execution_count": null,
   "metadata": {},
   "outputs": [],
   "source": []
  },
  {
   "cell_type": "markdown",
   "metadata": {},
   "source": [
    "##### Using filter() extract names of the customers whose age >= 60"
   ]
  },
  {
   "cell_type": "code",
   "execution_count": null,
   "metadata": {},
   "outputs": [],
   "source": []
  },
  {
   "cell_type": "markdown",
   "metadata": {},
   "source": [
    "##### Using filter() extract names of the customers whose profession is either of the following -  (doctor, policeofficer and reporter)"
   ]
  },
  {
   "cell_type": "code",
   "execution_count": null,
   "metadata": {},
   "outputs": [],
   "source": []
  }
 ],
 "metadata": {
  "kernelspec": {
   "display_name": "Python 3",
   "language": "python",
   "name": "python3"
  },
  "language_info": {
   "codemirror_mode": {
    "name": "ipython",
    "version": 3
   },
   "file_extension": ".py",
   "mimetype": "text/x-python",
   "name": "python",
   "nbconvert_exporter": "python",
   "pygments_lexer": "ipython3",
   "version": "3.9.1"
  }
 },
 "nbformat": 4,
 "nbformat_minor": 4
}
